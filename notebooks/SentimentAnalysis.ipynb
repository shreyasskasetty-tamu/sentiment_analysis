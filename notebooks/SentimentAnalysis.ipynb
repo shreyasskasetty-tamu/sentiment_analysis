{
  "cells": [
    {
      "cell_type": "code",
      "execution_count": null,
      "metadata": {
        "colab": {
          "base_uri": "https://localhost:8080/"
        },
        "id": "FpNjWYg1kWJu",
        "outputId": "32896b0c-02b9-44da-8001-5db284c8e2b0"
      },
      "outputs": [
        {
          "name": "stdout",
          "output_type": "stream",
          "text": [
            "Collecting nlpaug\n",
            "  Downloading nlpaug-1.1.11-py3-none-any.whl (410 kB)\n",
            "\u001b[?25l     \u001b[90m━━━━━━━━━━━━━━━━━━━━━━━━━━━━━━━━━━━━━━━━\u001b[0m \u001b[32m0.0/410.5 kB\u001b[0m \u001b[31m?\u001b[0m eta \u001b[36m-:--:--\u001b[0m\r\u001b[2K     \u001b[91m━━━━━━━━━━━━━━━━━━\u001b[0m\u001b[91m╸\u001b[0m\u001b[90m━━━━━━━━━━━━━━━━━━━━━\u001b[0m \u001b[32m194.6/410.5 kB\u001b[0m \u001b[31m6.1 MB/s\u001b[0m eta \u001b[36m0:00:01\u001b[0m\r\u001b[2K     \u001b[90m━━━━━━━━━━━━━━━━━━━━━━━━━━━━━━━━━━━━━━━━\u001b[0m \u001b[32m410.5/410.5 kB\u001b[0m \u001b[31m7.8 MB/s\u001b[0m eta \u001b[36m0:00:00\u001b[0m\n",
            "\u001b[?25hRequirement already satisfied: numpy>=1.16.2 in /usr/local/lib/python3.10/dist-packages (from nlpaug) (1.23.5)\n",
            "Requirement already satisfied: pandas>=1.2.0 in /usr/local/lib/python3.10/dist-packages (from nlpaug) (1.5.3)\n",
            "Requirement already satisfied: requests>=2.22.0 in /usr/local/lib/python3.10/dist-packages (from nlpaug) (2.31.0)\n",
            "Requirement already satisfied: gdown>=4.0.0 in /usr/local/lib/python3.10/dist-packages (from nlpaug) (4.6.6)\n",
            "Requirement already satisfied: filelock in /usr/local/lib/python3.10/dist-packages (from gdown>=4.0.0->nlpaug) (3.13.1)\n",
            "Requirement already satisfied: six in /usr/local/lib/python3.10/dist-packages (from gdown>=4.0.0->nlpaug) (1.16.0)\n",
            "Requirement already satisfied: tqdm in /usr/local/lib/python3.10/dist-packages (from gdown>=4.0.0->nlpaug) (4.66.1)\n",
            "Requirement already satisfied: beautifulsoup4 in /usr/local/lib/python3.10/dist-packages (from gdown>=4.0.0->nlpaug) (4.11.2)\n",
            "Requirement already satisfied: python-dateutil>=2.8.1 in /usr/local/lib/python3.10/dist-packages (from pandas>=1.2.0->nlpaug) (2.8.2)\n",
            "Requirement already satisfied: pytz>=2020.1 in /usr/local/lib/python3.10/dist-packages (from pandas>=1.2.0->nlpaug) (2023.3.post1)\n",
            "Requirement already satisfied: charset-normalizer<4,>=2 in /usr/local/lib/python3.10/dist-packages (from requests>=2.22.0->nlpaug) (3.3.2)\n",
            "Requirement already satisfied: idna<4,>=2.5 in /usr/local/lib/python3.10/dist-packages (from requests>=2.22.0->nlpaug) (3.6)\n",
            "Requirement already satisfied: urllib3<3,>=1.21.1 in /usr/local/lib/python3.10/dist-packages (from requests>=2.22.0->nlpaug) (2.0.7)\n",
            "Requirement already satisfied: certifi>=2017.4.17 in /usr/local/lib/python3.10/dist-packages (from requests>=2.22.0->nlpaug) (2023.11.17)\n",
            "Requirement already satisfied: soupsieve>1.2 in /usr/local/lib/python3.10/dist-packages (from beautifulsoup4->gdown>=4.0.0->nlpaug) (2.5)\n",
            "Requirement already satisfied: PySocks!=1.5.7,>=1.5.6 in /usr/local/lib/python3.10/dist-packages (from requests>=2.22.0->nlpaug) (1.7.1)\n",
            "Installing collected packages: nlpaug\n",
            "Successfully installed nlpaug-1.1.11\n"
          ]
        }
      ],
      "source": [
        "!pip install nlpaug"
      ]
    },
    {
      "cell_type": "code",
      "execution_count": 89,
      "metadata": {
        "id": "WmX8XX_IkDF0"
      },
      "outputs": [],
      "source": [
        "import transformers\n",
        "import torch\n",
        "\n",
        "has_gpu = torch.cuda.is_available()\n",
        "has_mps = torch.backends.mps.is_built()\n",
        "DEVICE = \"cuda\"\n",
        "RANDOM_STATE = 42\n",
        "MAX_LEN = 256\n",
        "TRAIN_BATCH_SIZE = 32\n",
        "VALID_BATCH_SIZE = 16\n",
        "TEST_BATCH_SIZE = 32\n",
        "EPOCHS = 2\n",
        "BERT_PATH = \"bert-base-uncased\"\n",
        "MODEL_PATH = \"models/model.pt\"\n",
        "TRAINING_FILE = \"/content/drive/MyDrive/YelpDataset/yelp_review_train.csv\"\n",
        "TEST_FILE = \"/content/drive/MyDrive/YelpDataset/yelp_review_test.csv\"\n",
        "PREPROCESSED_DATA_PATH = \"dataset/preprocessed_yelp_review.csv\"\n",
        "BALANCED_DATASET_PATH = \"/content/drive/MyDrive/YelpDataset/new_balanced_yelp_review.csv\"\n",
        "BERT_TOKENIZER = transformers.BertTokenizer.from_pretrained(BERT_PATH, do_lower_case=True)\n",
        "ROBERTA_TOKENIZER =  transformers.RobertaTokenizer.from_pretrained('roberta-base')\n",
        "STOP_WORDS_DOWNLOAD_PATH = \"dataset/\"\n",
        "LEARNING_RATE = 3e-5\n",
        "FINE_TUNING_LEARNING_RATE = 3e-6"
      ]
    },
    {
      "cell_type": "markdown",
      "metadata": {},
      "source": [
        "# a) \\& b) Dataset Preprocessing and Input Preprocessing"
      ]
    },
    {
      "cell_type": "code",
      "execution_count": 63,
      "metadata": {
        "id": "BpO_yl4fjV8Y"
      },
      "outputs": [],
      "source": [
        "import os\n",
        "import torch\n",
        "import nltk\n",
        "import regex as re\n",
        "import pandas as pd\n",
        "import nlpaug.augmenter.word as naw\n",
        "import warnings\n",
        "\n",
        "from sklearn.preprocessing import LabelEncoder\n",
        "from nltk.corpus import stopwords\n",
        "from tqdm import tqdm\n",
        "\n",
        "def save_preprocessed_data(data, filepath):\n",
        "    # Function to save preprocessed data to a CSV file\n",
        "    # data: DataFrame containing preprocessed data\n",
        "    # filepath: Location where the CSV file will be saved\n",
        "    data.to_csv(filepath, index=False)\n",
        "\n",
        "def load_preprocessed_data(filepath):\n",
        "    # Function to load preprocessed data from a CSV file\n",
        "    # filepath: Location of the CSV file to be loaded\n",
        "    return pd.read_csv(filepath)\n",
        "\n",
        "class BERTDataset:\n",
        "    # A custom dataset class for BERT model\n",
        "    def __init__(self, review, target):\n",
        "        # Constructor for the BERTDataset class\n",
        "        # review: List or series of review texts\n",
        "        # target: List or series of target labels\n",
        "        self.review = review\n",
        "        self.target = target\n",
        "        self.tokenizer = BERT_TOKENIZER  # Tokenizer specific to BERT\n",
        "        self.max_len = MAX_LEN  # Maximum sequence length\n",
        "\n",
        "    def __len__(self):\n",
        "        # Returns the length of the dataset\n",
        "        return len(self.review)\n",
        "\n",
        "    def __getitem__(self, item):\n",
        "        # Method to get the ith item from the dataset\n",
        "        review = str(self.review[item])\n",
        "        review = \" \".join(review.split())  # Clean and split the review text\n",
        "\n",
        "        # Tokenize the review\n",
        "        inputs = self.tokenizer.encode_plus(\n",
        "            review,\n",
        "            None,\n",
        "            add_special_tokens=True,\n",
        "            max_length=self.max_len,\n",
        "            pad_to_max_length=True,\n",
        "            truncation=True\n",
        "        )\n",
        "\n",
        "        # Extract tokens, attention masks, and token type IDs from tokenizer output\n",
        "        ids = inputs[\"input_ids\"]\n",
        "        mask = inputs[\"attention_mask\"]\n",
        "        token_type_ids = inputs[\"token_type_ids\"]\n",
        "        target = self.target[item]\n",
        "\n",
        "        # Return a dictionary of tensors for model input\n",
        "        return {\n",
        "            \"ids\": torch.tensor(ids, dtype=torch.long),\n",
        "            \"mask\": torch.tensor(mask, dtype=torch.long),\n",
        "            \"token_type_ids\": torch.tensor(token_type_ids, dtype=torch.long),\n",
        "            \"targets\": torch.tensor(target, dtype=torch.long),\n",
        "        }\n",
        "        \n",
        "class RoBERTaDataset:\n",
        "    # A custom dataset class for RoBERTa model\n",
        "    def __init__(self, review, target):\n",
        "        # Constructor for the RoBERTaDataset class\n",
        "        # review: List or series of review texts\n",
        "        # target: List or series of target labels\n",
        "        self.review = review\n",
        "        self.target = target\n",
        "        self.tokenizer = ROBERTA_TOKENIZER  # Tokenizer specific to RoBERTa\n",
        "        self.max_len = MAX_LEN  # Maximum sequence length\n",
        "\n",
        "    def __len__(self):\n",
        "        # Returns the length of the dataset\n",
        "        return len(self.review)\n",
        "\n",
        "    def __getitem__(self, item):\n",
        "        # Method to get the ith item from the dataset\n",
        "        review = str(self.review[item])\n",
        "        review = \" \".join(review.split())  # Clean and split the review text\n",
        "\n",
        "        # Tokenize the review\n",
        "        inputs = self.tokenizer.encode_plus(\n",
        "            review,\n",
        "            None,\n",
        "            add_special_tokens=True,\n",
        "            max_length=self.max_len,\n",
        "            pad_to_max_length=True,\n",
        "            truncation=True\n",
        "        )\n",
        "\n",
        "        # Extract tokens and attention masks from tokenizer output\n",
        "        # Note: RoBERTa does not use token type IDs\n",
        "        ids = inputs[\"input_ids\"]\n",
        "        mask = inputs[\"attention_mask\"]\n",
        "        target = self.target[item]\n",
        "\n",
        "        # Return a dictionary of tensors for model input\n",
        "        return {\n",
        "            \"ids\": torch.tensor(ids, dtype=torch.long),\n",
        "            \"mask\": torch.tensor(mask, dtype=torch.long),\n",
        "            \"targets\": torch.tensor(target, dtype=torch.long),\n",
        "        }\n",
        "\n",
        "class DatasetPreprocessor:\n",
        "    def __init__(self, dataset_df,text_col=\"text\",label_col=\"stars\"):\n",
        "        self.dataset_df = dataset_df\n",
        "        self.text_col = text_col\n",
        "        self.label_col = label_col\n",
        "        tqdm.pandas()\n",
        "\n",
        "    def remove_punctuation(self, text: str) -> str:\n",
        "        \"\"\"\n",
        "        Remove punctuation from the given text.\n",
        "\n",
        "        Args:\n",
        "        text (str): The text to be processed.\n",
        "\n",
        "        Returns:\n",
        "        str: The text with punctuation removed.\n",
        "        \"\"\"\n",
        "        return re.sub(r'[^\\w\\s]', '', text)\n",
        "\n",
        "    def convert_to_lowercase(self, text: str) -> str:\n",
        "        \"\"\"\n",
        "        Convert all characters in the given text to lowercase.\n",
        "\n",
        "        Args:\n",
        "        text (str): The text to be processed.\n",
        "\n",
        "        Returns:\n",
        "        str: The text in lowercase.\n",
        "        \"\"\"\n",
        "        return text.lower()\n",
        "\n",
        "    def download_stopwords(self, download_dir):\n",
        "        # Define the path where NLTK will store the stopwords\n",
        "        nltk.data.path.append(download_dir)\n",
        "\n",
        "        # Check if the stopwords are already downloaded\n",
        "        if not os.path.exists(os.path.join(download_dir, \"corpora/stopwords\")):\n",
        "            # Download stopwords\n",
        "            nltk.download(\"stopwords\", download_dir=download_dir)\n",
        "        else:\n",
        "            print(\"Stopwords already downloaded.\")\n",
        "\n",
        "    def remove_stopwords(self, text: str, stopwords: set) -> str:\n",
        "        \"\"\"\n",
        "        Remove stopwords from the given text.\n",
        "\n",
        "        Args:\n",
        "        text (str): The text to be processed.\n",
        "        stopwords (set): A set of stopwords to remove from the text.\n",
        "\n",
        "        Returns:\n",
        "        str: The text with stopwords removed.\n",
        "        \"\"\"\n",
        "        return ' '.join([word for word in text.split() if word not in stopwords])\n",
        "\n",
        "    def categorize_stars(self, stars: float) -> str:\n",
        "        \"\"\"\n",
        "        Categorize the star rating into Positive, Negative, and Neutral.\n",
        "\n",
        "        Args:\n",
        "        stars (float): The star rating.\n",
        "\n",
        "        Returns:\n",
        "        str: The category of the rating (Positive, Negative, Neutral).\n",
        "        \"\"\"\n",
        "        if stars > 3:\n",
        "            return \"Positive\"\n",
        "        elif stars == 3:\n",
        "            return \"Neutral\"\n",
        "        else:\n",
        "            return \"Negative\"\n",
        "\n",
        "    def augment_data_roberta(self,data, class_name, target_size=20000, model_path='roberta-base'):\n",
        "        aug = naw.ContextualWordEmbsAug(model_path=model_path, action=\"insert\")\n",
        "        augmented_texts = []\n",
        "\n",
        "        while len(augmented_texts) + len(data) < target_size:\n",
        "            for text in tqdm(data['review'], desc=\"Augmenting Data\"):\n",
        "                augmented_text = aug.augment(text)\n",
        "                augmented_texts.append({'review': augmented_text, 'sentiment': class_name})\n",
        "                if len(augmented_texts) + len(data) >= target_size:\n",
        "                    break\n",
        "\n",
        "        return pd.DataFrame(augmented_texts)\n",
        "\n",
        "    def preprocess_dataset(self):\n",
        "\n",
        "        print(\"Preprocessing Dataset...\")\n",
        "        print(\"1. Removing punctuations\")\n",
        "        #Apply remove_punctuation function to the text column\n",
        "        self.dataset_df['text_no_punctuation'] = self.dataset_df['text'].progress_apply(self.remove_punctuation)\n",
        "\n",
        "        print(\"2. Converting text to lower case\")\n",
        "        # Apply the convert_to_lowercase function to the text_no_punctuation column\n",
        "        self.dataset_df['text_lowercase'] = self.dataset_df['text_no_punctuation'].progress_apply(self.convert_to_lowercase)\n",
        "\n",
        "        # Downlaod stop words in English Language\n",
        "        print(\"3. Removing Stop Words\")\n",
        "\n",
        "        self.download_stopwords(STOP_WORDS_DOWNLOAD_PATH)\n",
        "\n",
        "        english_stopwords = stopwords.words('english')\n",
        "\n",
        "        self.dataset_df['text_no_stopwords'] = self.dataset_df['text_lowercase'].progress_apply(lambda x: self.remove_stopwords(x, english_stopwords))\n",
        "\n",
        "        print(\"4. Converting to stars to sentiment\")\n",
        "        # Apply the categorize_stars function to the stars column\n",
        "        self.dataset_df['sentiment_category'] = self.dataset_df['stars'].progress_apply(self.categorize_stars)\n",
        "\n",
        "        # Creating a dataframe with only the necessary columns for analysis\n",
        "        final_preprocessed_data = self.dataset_df[['text_no_stopwords', 'sentiment_category']]\n",
        "\n",
        "        # Renaming the columns for clarity\n",
        "        final_preprocessed_data.columns = ['review', 'sentiment']\n",
        "\n",
        "        # Initializing the label encoder\n",
        "        label_encoder = LabelEncoder()\n",
        "\n",
        "        print(\"5. Enconding sentiments to 0, 1, 2 (Positive, Negative, Neutral)\")\n",
        "        # Applying label encoding to the sentiment column\n",
        "        final_preprocessed_data['sentiment'] = label_encoder.fit_transform(final_preprocessed_data['sentiment'])\n",
        "\n",
        "        # Display the mapping of categories to integers and the first few rows of the dataset\n",
        "        category_mapping = dict(zip(label_encoder.classes_, label_encoder.transform(label_encoder.classes_)))\n",
        "\n",
        "        # Finalizing the preprocessed DataFrame with only the necessary columns for model training\n",
        "        preprocessed_data = final_preprocessed_data[['review', 'sentiment']]\n",
        "        print(\"Preprocessing done!\")\n",
        "        return preprocessed_data\n"
      ]
    },
    {
      "cell_type": "code",
      "execution_count": 123,
      "metadata": {
        "colab": {
          "base_uri": "https://localhost:8080/",
          "height": 420
        },
        "id": "7gfa1hjPgFnE",
        "outputId": "80176dfd-62b7-445c-cc84-283e7db5ba7d"
      },
      "outputs": [
        {
          "name": "stdout",
          "output_type": "stream",
          "text": [
            "Preprocessing Dataset...\n",
            "1. Removing punctuations\n"
          ]
        },
        {
          "name": "stderr",
          "output_type": "stream",
          "text": [
            "100%|██████████| 174757/174757 [00:03<00:00, 44666.50it/s]\n"
          ]
        },
        {
          "name": "stdout",
          "output_type": "stream",
          "text": [
            "2. Converting text to lower case\n"
          ]
        },
        {
          "name": "stderr",
          "output_type": "stream",
          "text": [
            "100%|██████████| 174757/174757 [00:00<00:00, 658010.88it/s]\n"
          ]
        },
        {
          "name": "stdout",
          "output_type": "stream",
          "text": [
            "3. Removing Stop Words\n",
            "Stopwords already downloaded.\n"
          ]
        },
        {
          "name": "stderr",
          "output_type": "stream",
          "text": [
            "100%|██████████| 174757/174757 [00:30<00:00, 5697.97it/s]\n"
          ]
        },
        {
          "name": "stdout",
          "output_type": "stream",
          "text": [
            "4. Converting to stars to sentiment\n"
          ]
        },
        {
          "name": "stderr",
          "output_type": "stream",
          "text": [
            "100%|██████████| 174757/174757 [00:00<00:00, 1132633.83it/s]\n"
          ]
        },
        {
          "name": "stdout",
          "output_type": "stream",
          "text": [
            "5. Enconding sentiments to 0, 1, 2 (Positive, Negative, Neutral)\n",
            "Preprocessing done!\n"
          ]
        },
        {
          "data": {
            "text/html": [
              "\n",
              "  <div id=\"df-91ffbd12-3dce-43af-ae9f-ff4e898c6e67\" class=\"colab-df-container\">\n",
              "    <div>\n",
              "<style scoped>\n",
              "    .dataframe tbody tr th:only-of-type {\n",
              "        vertical-align: middle;\n",
              "    }\n",
              "\n",
              "    .dataframe tbody tr th {\n",
              "        vertical-align: top;\n",
              "    }\n",
              "\n",
              "    .dataframe thead th {\n",
              "        text-align: right;\n",
              "    }\n",
              "</style>\n",
              "<table border=\"1\" class=\"dataframe\">\n",
              "  <thead>\n",
              "    <tr style=\"text-align: right;\">\n",
              "      <th></th>\n",
              "      <th>review</th>\n",
              "      <th>sentiment</th>\n",
              "    </tr>\n",
              "  </thead>\n",
              "  <tbody>\n",
              "    <tr>\n",
              "      <th>0</th>\n",
              "      <td>went lunch found burger meh obvious focus burg...</td>\n",
              "      <td>0</td>\n",
              "    </tr>\n",
              "    <tr>\n",
              "      <th>1</th>\n",
              "      <td>needed new tires wifes car special order next ...</td>\n",
              "      <td>2</td>\n",
              "    </tr>\n",
              "    <tr>\n",
              "      <th>2</th>\n",
              "      <td>jim woltman works goleta honda 5 stars knowled...</td>\n",
              "      <td>2</td>\n",
              "    </tr>\n",
              "    <tr>\n",
              "      <th>3</th>\n",
              "      <td>times get shrimp theyve got nice selection dif...</td>\n",
              "      <td>2</td>\n",
              "    </tr>\n",
              "    <tr>\n",
              "      <th>4</th>\n",
              "      <td>one fantastic place eat whether hungry need go...</td>\n",
              "      <td>2</td>\n",
              "    </tr>\n",
              "  </tbody>\n",
              "</table>\n",
              "</div>\n",
              "    <div class=\"colab-df-buttons\">\n",
              "\n",
              "  <div class=\"colab-df-container\">\n",
              "    <button class=\"colab-df-convert\" onclick=\"convertToInteractive('df-91ffbd12-3dce-43af-ae9f-ff4e898c6e67')\"\n",
              "            title=\"Convert this dataframe to an interactive table.\"\n",
              "            style=\"display:none;\">\n",
              "\n",
              "  <svg xmlns=\"http://www.w3.org/2000/svg\" height=\"24px\" viewBox=\"0 -960 960 960\">\n",
              "    <path d=\"M120-120v-720h720v720H120Zm60-500h600v-160H180v160Zm220 220h160v-160H400v160Zm0 220h160v-160H400v160ZM180-400h160v-160H180v160Zm440 0h160v-160H620v160ZM180-180h160v-160H180v160Zm440 0h160v-160H620v160Z\"/>\n",
              "  </svg>\n",
              "    </button>\n",
              "\n",
              "  <style>\n",
              "    .colab-df-container {\n",
              "      display:flex;\n",
              "      gap: 12px;\n",
              "    }\n",
              "\n",
              "    .colab-df-convert {\n",
              "      background-color: #E8F0FE;\n",
              "      border: none;\n",
              "      border-radius: 50%;\n",
              "      cursor: pointer;\n",
              "      display: none;\n",
              "      fill: #1967D2;\n",
              "      height: 32px;\n",
              "      padding: 0 0 0 0;\n",
              "      width: 32px;\n",
              "    }\n",
              "\n",
              "    .colab-df-convert:hover {\n",
              "      background-color: #E2EBFA;\n",
              "      box-shadow: 0px 1px 2px rgba(60, 64, 67, 0.3), 0px 1px 3px 1px rgba(60, 64, 67, 0.15);\n",
              "      fill: #174EA6;\n",
              "    }\n",
              "\n",
              "    .colab-df-buttons div {\n",
              "      margin-bottom: 4px;\n",
              "    }\n",
              "\n",
              "    [theme=dark] .colab-df-convert {\n",
              "      background-color: #3B4455;\n",
              "      fill: #D2E3FC;\n",
              "    }\n",
              "\n",
              "    [theme=dark] .colab-df-convert:hover {\n",
              "      background-color: #434B5C;\n",
              "      box-shadow: 0px 1px 3px 1px rgba(0, 0, 0, 0.15);\n",
              "      filter: drop-shadow(0px 1px 2px rgba(0, 0, 0, 0.3));\n",
              "      fill: #FFFFFF;\n",
              "    }\n",
              "  </style>\n",
              "\n",
              "    <script>\n",
              "      const buttonEl =\n",
              "        document.querySelector('#df-91ffbd12-3dce-43af-ae9f-ff4e898c6e67 button.colab-df-convert');\n",
              "      buttonEl.style.display =\n",
              "        google.colab.kernel.accessAllowed ? 'block' : 'none';\n",
              "\n",
              "      async function convertToInteractive(key) {\n",
              "        const element = document.querySelector('#df-91ffbd12-3dce-43af-ae9f-ff4e898c6e67');\n",
              "        const dataTable =\n",
              "          await google.colab.kernel.invokeFunction('convertToInteractive',\n",
              "                                                    [key], {});\n",
              "        if (!dataTable) return;\n",
              "\n",
              "        const docLinkHtml = 'Like what you see? Visit the ' +\n",
              "          '<a target=\"_blank\" href=https://colab.research.google.com/notebooks/data_table.ipynb>data table notebook</a>'\n",
              "          + ' to learn more about interactive tables.';\n",
              "        element.innerHTML = '';\n",
              "        dataTable['output_type'] = 'display_data';\n",
              "        await google.colab.output.renderOutput(dataTable, element);\n",
              "        const docLink = document.createElement('div');\n",
              "        docLink.innerHTML = docLinkHtml;\n",
              "        element.appendChild(docLink);\n",
              "      }\n",
              "    </script>\n",
              "  </div>\n",
              "\n",
              "\n",
              "<div id=\"df-9d9680da-e990-4f33-a552-520517473dda\">\n",
              "  <button class=\"colab-df-quickchart\" onclick=\"quickchart('df-9d9680da-e990-4f33-a552-520517473dda')\"\n",
              "            title=\"Suggest charts\"\n",
              "            style=\"display:none;\">\n",
              "\n",
              "<svg xmlns=\"http://www.w3.org/2000/svg\" height=\"24px\"viewBox=\"0 0 24 24\"\n",
              "     width=\"24px\">\n",
              "    <g>\n",
              "        <path d=\"M19 3H5c-1.1 0-2 .9-2 2v14c0 1.1.9 2 2 2h14c1.1 0 2-.9 2-2V5c0-1.1-.9-2-2-2zM9 17H7v-7h2v7zm4 0h-2V7h2v10zm4 0h-2v-4h2v4z\"/>\n",
              "    </g>\n",
              "</svg>\n",
              "  </button>\n",
              "\n",
              "<style>\n",
              "  .colab-df-quickchart {\n",
              "      --bg-color: #E8F0FE;\n",
              "      --fill-color: #1967D2;\n",
              "      --hover-bg-color: #E2EBFA;\n",
              "      --hover-fill-color: #174EA6;\n",
              "      --disabled-fill-color: #AAA;\n",
              "      --disabled-bg-color: #DDD;\n",
              "  }\n",
              "\n",
              "  [theme=dark] .colab-df-quickchart {\n",
              "      --bg-color: #3B4455;\n",
              "      --fill-color: #D2E3FC;\n",
              "      --hover-bg-color: #434B5C;\n",
              "      --hover-fill-color: #FFFFFF;\n",
              "      --disabled-bg-color: #3B4455;\n",
              "      --disabled-fill-color: #666;\n",
              "  }\n",
              "\n",
              "  .colab-df-quickchart {\n",
              "    background-color: var(--bg-color);\n",
              "    border: none;\n",
              "    border-radius: 50%;\n",
              "    cursor: pointer;\n",
              "    display: none;\n",
              "    fill: var(--fill-color);\n",
              "    height: 32px;\n",
              "    padding: 0;\n",
              "    width: 32px;\n",
              "  }\n",
              "\n",
              "  .colab-df-quickchart:hover {\n",
              "    background-color: var(--hover-bg-color);\n",
              "    box-shadow: 0 1px 2px rgba(60, 64, 67, 0.3), 0 1px 3px 1px rgba(60, 64, 67, 0.15);\n",
              "    fill: var(--button-hover-fill-color);\n",
              "  }\n",
              "\n",
              "  .colab-df-quickchart-complete:disabled,\n",
              "  .colab-df-quickchart-complete:disabled:hover {\n",
              "    background-color: var(--disabled-bg-color);\n",
              "    fill: var(--disabled-fill-color);\n",
              "    box-shadow: none;\n",
              "  }\n",
              "\n",
              "  .colab-df-spinner {\n",
              "    border: 2px solid var(--fill-color);\n",
              "    border-color: transparent;\n",
              "    border-bottom-color: var(--fill-color);\n",
              "    animation:\n",
              "      spin 1s steps(1) infinite;\n",
              "  }\n",
              "\n",
              "  @keyframes spin {\n",
              "    0% {\n",
              "      border-color: transparent;\n",
              "      border-bottom-color: var(--fill-color);\n",
              "      border-left-color: var(--fill-color);\n",
              "    }\n",
              "    20% {\n",
              "      border-color: transparent;\n",
              "      border-left-color: var(--fill-color);\n",
              "      border-top-color: var(--fill-color);\n",
              "    }\n",
              "    30% {\n",
              "      border-color: transparent;\n",
              "      border-left-color: var(--fill-color);\n",
              "      border-top-color: var(--fill-color);\n",
              "      border-right-color: var(--fill-color);\n",
              "    }\n",
              "    40% {\n",
              "      border-color: transparent;\n",
              "      border-right-color: var(--fill-color);\n",
              "      border-top-color: var(--fill-color);\n",
              "    }\n",
              "    60% {\n",
              "      border-color: transparent;\n",
              "      border-right-color: var(--fill-color);\n",
              "    }\n",
              "    80% {\n",
              "      border-color: transparent;\n",
              "      border-right-color: var(--fill-color);\n",
              "      border-bottom-color: var(--fill-color);\n",
              "    }\n",
              "    90% {\n",
              "      border-color: transparent;\n",
              "      border-bottom-color: var(--fill-color);\n",
              "    }\n",
              "  }\n",
              "</style>\n",
              "\n",
              "  <script>\n",
              "    async function quickchart(key) {\n",
              "      const quickchartButtonEl =\n",
              "        document.querySelector('#' + key + ' button');\n",
              "      quickchartButtonEl.disabled = true;  // To prevent multiple clicks.\n",
              "      quickchartButtonEl.classList.add('colab-df-spinner');\n",
              "      try {\n",
              "        const charts = await google.colab.kernel.invokeFunction(\n",
              "            'suggestCharts', [key], {});\n",
              "      } catch (error) {\n",
              "        console.error('Error during call to suggestCharts:', error);\n",
              "      }\n",
              "      quickchartButtonEl.classList.remove('colab-df-spinner');\n",
              "      quickchartButtonEl.classList.add('colab-df-quickchart-complete');\n",
              "    }\n",
              "    (() => {\n",
              "      let quickchartButtonEl =\n",
              "        document.querySelector('#df-9d9680da-e990-4f33-a552-520517473dda button');\n",
              "      quickchartButtonEl.style.display =\n",
              "        google.colab.kernel.accessAllowed ? 'block' : 'none';\n",
              "    })();\n",
              "  </script>\n",
              "</div>\n",
              "\n",
              "    </div>\n",
              "  </div>\n"
            ],
            "text/plain": [
              "                                              review  sentiment\n",
              "0  went lunch found burger meh obvious focus burg...          0\n",
              "1  needed new tires wifes car special order next ...          2\n",
              "2  jim woltman works goleta honda 5 stars knowled...          2\n",
              "3  times get shrimp theyve got nice selection dif...          2\n",
              "4  one fantastic place eat whether hungry need go...          2"
            ]
          },
          "execution_count": 123,
          "metadata": {},
          "output_type": "execute_result"
        }
      ],
      "source": [
        "train_dataset = pd.read_csv(TRAINING_FILE)\n",
        "preprocessor = DatasetPreprocessor(train_dataset)\n",
        "preprocessed_dataset = preprocessor.preprocess_dataset()\n",
        "preprocessed_dataset.head()"
      ]
    },
    {
      "cell_type": "markdown",
      "metadata": {
        "id": "ay4RmK6QBrgh"
      },
      "source": [
        "# Unbalanced Training Dataset Distribution"
      ]
    },
    {
      "cell_type": "code",
      "execution_count": 128,
      "metadata": {
        "colab": {
          "base_uri": "https://localhost:8080/",
          "height": 564
        },
        "id": "WtvyMkwM2RBy",
        "outputId": "2b619bc6-cc1d-46aa-eea4-43c0f36b4c48"
      },
      "outputs": [
        {
          "data": {
            "image/png": "[encoded data removed]",
            "text/plain": [
              "<Figure size 800x600 with 1 Axes>"
            ]
          },
          "metadata": {},
          "output_type": "display_data"
        }
      ],
      "source": [
        "import matplotlib.pyplot as plt\n",
        "# Plotting the bar graph\n",
        "label_counts = preprocessed_dataset[\"sentiment\"].value_counts()\n",
        "labels = [\"Positive\",\"Negative\",\"Neutral\"]\n",
        "plt.figure(figsize=(8, 6))\n",
        "bars = plt.bar(labels,label_counts, color=['blue', 'green', 'red'])\n",
        "plt.xlabel('Sentiment')\n",
        "plt.ylabel('Count')\n",
        "plt.title('Sentiment Distribution in the Train Dataset')\n",
        "for bar in bars:\n",
        "    yval = bar.get_height()\n",
        "    plt.text(bar.get_x() + bar.get_width()/2, yval, int(yval), ha='center', va='bottom')\n",
        "\n",
        "plt.show()"
      ]
    },
    {
      "cell_type": "markdown",
      "metadata": {
        "id": "XJonQhM6BiJd"
      },
      "source": [
        "# Balanced Training Data Class Distribution"
      ]
    },
    {
      "cell_type": "code",
      "execution_count": 129,
      "metadata": {
        "colab": {
          "base_uri": "https://localhost:8080/",
          "height": 564
        },
        "id": "j0DdeEnK2Z1c",
        "outputId": "6c9adcf3-4fdc-4c8c-b594-e7aa576143ce"
      },
      "outputs": [
        {
          "data": {
            "image/png": "[encoded data removed]",
            "text/plain": [
              "<Figure size 800x600 with 1 Axes>"
            ]
          },
          "metadata": {},
          "output_type": "display_data"
        }
      ],
      "source": [
        "# Augmented Dataset\n",
        "balanced_preprocessed_dataset = pd.read_csv(BALANCED_DATASET_PATH)\n",
        "# Plotting the bar graph\n",
        "label_counts = balanced_preprocessed_dataset[\"sentiment\"].value_counts()\n",
        "labels = [\"Positive\",\"Negative\",\"Neutral\"]\n",
        "plt.figure(figsize=(8, 6))\n",
        "bars = plt.bar(labels,label_counts, color=['blue', 'green', 'red'])\n",
        "plt.xlabel('Sentiment')\n",
        "plt.ylabel('Count')\n",
        "plt.title('Sentiment Distribution in the Train Dataset')\n",
        "for bar in bars:\n",
        "    yval = bar.get_height()\n",
        "    plt.text(bar.get_x() + bar.get_width()/2, yval, int(yval), ha='center', va='bottom')\n",
        "\n",
        "plt.show()"
      ]
    },
    {
      "cell_type": "markdown",
      "metadata": {
        "id": "x6T3cMZdCIls"
      },
      "source": [
        "# Test Dataset Class Distribution"
      ]
    },
    {
      "cell_type": "code",
      "execution_count": 155,
      "metadata": {
        "colab": {
          "base_uri": "https://localhost:8080/",
          "height": 420
        },
        "id": "hmLyiEP9CQtF",
        "outputId": "c949dcb8-1f8c-4c4e-8516-2009a9e3348c"
      },
      "outputs": [
        {
          "name": "stdout",
          "output_type": "stream",
          "text": [
            "Preprocessing Dataset...\n",
            "1. Removing punctuations\n"
          ]
        },
        {
          "name": "stderr",
          "output_type": "stream",
          "text": [
            "100%|██████████| 13980/13980 [00:00<00:00, 46811.91it/s]\n"
          ]
        },
        {
          "name": "stdout",
          "output_type": "stream",
          "text": [
            "2. Converting text to lower case\n"
          ]
        },
        {
          "name": "stderr",
          "output_type": "stream",
          "text": [
            "100%|██████████| 13980/13980 [00:00<00:00, 616368.52it/s]\n"
          ]
        },
        {
          "name": "stdout",
          "output_type": "stream",
          "text": [
            "3. Removing Stop Words\n",
            "Stopwords already downloaded.\n"
          ]
        },
        {
          "name": "stderr",
          "output_type": "stream",
          "text": [
            "100%|██████████| 13980/13980 [00:02<00:00, 5854.63it/s]\n"
          ]
        },
        {
          "name": "stdout",
          "output_type": "stream",
          "text": [
            "4. Converting to stars to sentiment\n"
          ]
        },
        {
          "name": "stderr",
          "output_type": "stream",
          "text": [
            "100%|██████████| 13980/13980 [00:00<00:00, 950932.02it/s]"
          ]
        },
        {
          "name": "stdout",
          "output_type": "stream",
          "text": [
            "5. Enconding sentiments to 0, 1, 2 (Positive, Negative, Neutral)\n",
            "Preprocessing done!\n"
          ]
        },
        {
          "name": "stderr",
          "output_type": "stream",
          "text": [
            "\n"
          ]
        },
        {
          "data": {
            "text/html": [
              "\n",
              "  <div id=\"df-a338d8e0-744a-434a-8832-ff34b38b40c3\" class=\"colab-df-container\">\n",
              "    <div>\n",
              "<style scoped>\n",
              "    .dataframe tbody tr th:only-of-type {\n",
              "        vertical-align: middle;\n",
              "    }\n",
              "\n",
              "    .dataframe tbody tr th {\n",
              "        vertical-align: top;\n",
              "    }\n",
              "\n",
              "    .dataframe thead th {\n",
              "        text-align: right;\n",
              "    }\n",
              "</style>\n",
              "<table border=\"1\" class=\"dataframe\">\n",
              "  <thead>\n",
              "    <tr style=\"text-align: right;\">\n",
              "      <th></th>\n",
              "      <th>review</th>\n",
              "      <th>sentiment</th>\n",
              "    </tr>\n",
              "  </thead>\n",
              "  <tbody>\n",
              "    <tr>\n",
              "      <th>0</th>\n",
              "      <td>hidden treasure awesome service delicious food...</td>\n",
              "      <td>2</td>\n",
              "    </tr>\n",
              "    <tr>\n",
              "      <th>1</th>\n",
              "      <td>family patients since 5 years old 34 trust qua...</td>\n",
              "      <td>2</td>\n",
              "    </tr>\n",
              "    <tr>\n",
              "      <th>2</th>\n",
              "      <td>rarely get pedicures blue nails practice combi...</td>\n",
              "      <td>2</td>\n",
              "    </tr>\n",
              "    <tr>\n",
              "      <th>3</th>\n",
              "      <td>came large group may items missing menu lobste...</td>\n",
              "      <td>0</td>\n",
              "    </tr>\n",
              "    <tr>\n",
              "      <th>4</th>\n",
              "      <td>view great morgans pier bartenders even good s...</td>\n",
              "      <td>0</td>\n",
              "    </tr>\n",
              "  </tbody>\n",
              "</table>\n",
              "</div>\n",
              "    <div class=\"colab-df-buttons\">\n",
              "\n",
              "  <div class=\"colab-df-container\">\n",
              "    <button class=\"colab-df-convert\" onclick=\"convertToInteractive('df-a338d8e0-744a-434a-8832-ff34b38b40c3')\"\n",
              "            title=\"Convert this dataframe to an interactive table.\"\n",
              "            style=\"display:none;\">\n",
              "\n",
              "  <svg xmlns=\"http://www.w3.org/2000/svg\" height=\"24px\" viewBox=\"0 -960 960 960\">\n",
              "    <path d=\"M120-120v-720h720v720H120Zm60-500h600v-160H180v160Zm220 220h160v-160H400v160Zm0 220h160v-160H400v160ZM180-400h160v-160H180v160Zm440 0h160v-160H620v160ZM180-180h160v-160H180v160Zm440 0h160v-160H620v160Z\"/>\n",
              "  </svg>\n",
              "    </button>\n",
              "\n",
              "  <style>\n",
              "    .colab-df-container {\n",
              "      display:flex;\n",
              "      gap: 12px;\n",
              "    }\n",
              "\n",
              "    .colab-df-convert {\n",
              "      background-color: #E8F0FE;\n",
              "      border: none;\n",
              "      border-radius: 50%;\n",
              "      cursor: pointer;\n",
              "      display: none;\n",
              "      fill: #1967D2;\n",
              "      height: 32px;\n",
              "      padding: 0 0 0 0;\n",
              "      width: 32px;\n",
              "    }\n",
              "\n",
              "    .colab-df-convert:hover {\n",
              "      background-color: #E2EBFA;\n",
              "      box-shadow: 0px 1px 2px rgba(60, 64, 67, 0.3), 0px 1px 3px 1px rgba(60, 64, 67, 0.15);\n",
              "      fill: #174EA6;\n",
              "    }\n",
              "\n",
              "    .colab-df-buttons div {\n",
              "      margin-bottom: 4px;\n",
              "    }\n",
              "\n",
              "    [theme=dark] .colab-df-convert {\n",
              "      background-color: #3B4455;\n",
              "      fill: #D2E3FC;\n",
              "    }\n",
              "\n",
              "    [theme=dark] .colab-df-convert:hover {\n",
              "      background-color: #434B5C;\n",
              "      box-shadow: 0px 1px 3px 1px rgba(0, 0, 0, 0.15);\n",
              "      filter: drop-shadow(0px 1px 2px rgba(0, 0, 0, 0.3));\n",
              "      fill: #FFFFFF;\n",
              "    }\n",
              "  </style>\n",
              "\n",
              "    <script>\n",
              "      const buttonEl =\n",
              "        document.querySelector('#df-a338d8e0-744a-434a-8832-ff34b38b40c3 button.colab-df-convert');\n",
              "      buttonEl.style.display =\n",
              "        google.colab.kernel.accessAllowed ? 'block' : 'none';\n",
              "\n",
              "      async function convertToInteractive(key) {\n",
              "        const element = document.querySelector('#df-a338d8e0-744a-434a-8832-ff34b38b40c3');\n",
              "        const dataTable =\n",
              "          await google.colab.kernel.invokeFunction('convertToInteractive',\n",
              "                                                    [key], {});\n",
              "        if (!dataTable) return;\n",
              "\n",
              "        const docLinkHtml = 'Like what you see? Visit the ' +\n",
              "          '<a target=\"_blank\" href=https://colab.research.google.com/notebooks/data_table.ipynb>data table notebook</a>'\n",
              "          + ' to learn more about interactive tables.';\n",
              "        element.innerHTML = '';\n",
              "        dataTable['output_type'] = 'display_data';\n",
              "        await google.colab.output.renderOutput(dataTable, element);\n",
              "        const docLink = document.createElement('div');\n",
              "        docLink.innerHTML = docLinkHtml;\n",
              "        element.appendChild(docLink);\n",
              "      }\n",
              "    </script>\n",
              "  </div>\n",
              "\n",
              "\n",
              "<div id=\"df-9c021775-5b6c-4e5a-852b-b759922efa03\">\n",
              "  <button class=\"colab-df-quickchart\" onclick=\"quickchart('df-9c021775-5b6c-4e5a-852b-b759922efa03')\"\n",
              "            title=\"Suggest charts\"\n",
              "            style=\"display:none;\">\n",
              "\n",
              "<svg xmlns=\"http://www.w3.org/2000/svg\" height=\"24px\"viewBox=\"0 0 24 24\"\n",
              "     width=\"24px\">\n",
              "    <g>\n",
              "        <path d=\"M19 3H5c-1.1 0-2 .9-2 2v14c0 1.1.9 2 2 2h14c1.1 0 2-.9 2-2V5c0-1.1-.9-2-2-2zM9 17H7v-7h2v7zm4 0h-2V7h2v10zm4 0h-2v-4h2v4z\"/>\n",
              "    </g>\n",
              "</svg>\n",
              "  </button>\n",
              "\n",
              "<style>\n",
              "  .colab-df-quickchart {\n",
              "      --bg-color: #E8F0FE;\n",
              "      --fill-color: #1967D2;\n",
              "      --hover-bg-color: #E2EBFA;\n",
              "      --hover-fill-color: #174EA6;\n",
              "      --disabled-fill-color: #AAA;\n",
              "      --disabled-bg-color: #DDD;\n",
              "  }\n",
              "\n",
              "  [theme=dark] .colab-df-quickchart {\n",
              "      --bg-color: #3B4455;\n",
              "      --fill-color: #D2E3FC;\n",
              "      --hover-bg-color: #434B5C;\n",
              "      --hover-fill-color: #FFFFFF;\n",
              "      --disabled-bg-color: #3B4455;\n",
              "      --disabled-fill-color: #666;\n",
              "  }\n",
              "\n",
              "  .colab-df-quickchart {\n",
              "    background-color: var(--bg-color);\n",
              "    border: none;\n",
              "    border-radius: 50%;\n",
              "    cursor: pointer;\n",
              "    display: none;\n",
              "    fill: var(--fill-color);\n",
              "    height: 32px;\n",
              "    padding: 0;\n",
              "    width: 32px;\n",
              "  }\n",
              "\n",
              "  .colab-df-quickchart:hover {\n",
              "    background-color: var(--hover-bg-color);\n",
              "    box-shadow: 0 1px 2px rgba(60, 64, 67, 0.3), 0 1px 3px 1px rgba(60, 64, 67, 0.15);\n",
              "    fill: var(--button-hover-fill-color);\n",
              "  }\n",
              "\n",
              "  .colab-df-quickchart-complete:disabled,\n",
              "  .colab-df-quickchart-complete:disabled:hover {\n",
              "    background-color: var(--disabled-bg-color);\n",
              "    fill: var(--disabled-fill-color);\n",
              "    box-shadow: none;\n",
              "  }\n",
              "\n",
              "  .colab-df-spinner {\n",
              "    border: 2px solid var(--fill-color);\n",
              "    border-color: transparent;\n",
              "    border-bottom-color: var(--fill-color);\n",
              "    animation:\n",
              "      spin 1s steps(1) infinite;\n",
              "  }\n",
              "\n",
              "  @keyframes spin {\n",
              "    0% {\n",
              "      border-color: transparent;\n",
              "      border-bottom-color: var(--fill-color);\n",
              "      border-left-color: var(--fill-color);\n",
              "    }\n",
              "    20% {\n",
              "      border-color: transparent;\n",
              "      border-left-color: var(--fill-color);\n",
              "      border-top-color: var(--fill-color);\n",
              "    }\n",
              "    30% {\n",
              "      border-color: transparent;\n",
              "      border-left-color: var(--fill-color);\n",
              "      border-top-color: var(--fill-color);\n",
              "      border-right-color: var(--fill-color);\n",
              "    }\n",
              "    40% {\n",
              "      border-color: transparent;\n",
              "      border-right-color: var(--fill-color);\n",
              "      border-top-color: var(--fill-color);\n",
              "    }\n",
              "    60% {\n",
              "      border-color: transparent;\n",
              "      border-right-color: var(--fill-color);\n",
              "    }\n",
              "    80% {\n",
              "      border-color: transparent;\n",
              "      border-right-color: var(--fill-color);\n",
              "      border-bottom-color: var(--fill-color);\n",
              "    }\n",
              "    90% {\n",
              "      border-color: transparent;\n",
              "      border-bottom-color: var(--fill-color);\n",
              "    }\n",
              "  }\n",
              "</style>\n",
              "\n",
              "  <script>\n",
              "    async function quickchart(key) {\n",
              "      const quickchartButtonEl =\n",
              "        document.querySelector('#' + key + ' button');\n",
              "      quickchartButtonEl.disabled = true;  // To prevent multiple clicks.\n",
              "      quickchartButtonEl.classList.add('colab-df-spinner');\n",
              "      try {\n",
              "        const charts = await google.colab.kernel.invokeFunction(\n",
              "            'suggestCharts', [key], {});\n",
              "      } catch (error) {\n",
              "        console.error('Error during call to suggestCharts:', error);\n",
              "      }\n",
              "      quickchartButtonEl.classList.remove('colab-df-spinner');\n",
              "      quickchartButtonEl.classList.add('colab-df-quickchart-complete');\n",
              "    }\n",
              "    (() => {\n",
              "      let quickchartButtonEl =\n",
              "        document.querySelector('#df-9c021775-5b6c-4e5a-852b-b759922efa03 button');\n",
              "      quickchartButtonEl.style.display =\n",
              "        google.colab.kernel.accessAllowed ? 'block' : 'none';\n",
              "    })();\n",
              "  </script>\n",
              "</div>\n",
              "\n",
              "    </div>\n",
              "  </div>\n"
            ],
            "text/plain": [
              "                                              review  sentiment\n",
              "0  hidden treasure awesome service delicious food...          2\n",
              "1  family patients since 5 years old 34 trust qua...          2\n",
              "2  rarely get pedicures blue nails practice combi...          2\n",
              "3  came large group may items missing menu lobste...          0\n",
              "4  view great morgans pier bartenders even good s...          0"
            ]
          },
          "execution_count": 155,
          "metadata": {},
          "output_type": "execute_result"
        }
      ],
      "source": [
        "test_dataset = pd.read_csv(TEST_FILE)\n",
        "preprocessor = DatasetPreprocessor(test_dataset)\n",
        "preprocessed_dataset = preprocessor.preprocess_dataset()\n",
        "preprocessed_dataset.head()"
      ]
    },
    {
      "cell_type": "code",
      "execution_count": 156,
      "metadata": {
        "colab": {
          "base_uri": "https://localhost:8080/",
          "height": 564
        },
        "id": "ZMyzOn-VCXvY",
        "outputId": "2bbc5b0b-139d-4167-cb9b-98fa6fdd4341"
      },
      "outputs": [
        {
          "data": {
            "image/png": "[encoded data removed]",
            "text/plain": [
              "<Figure size 800x600 with 1 Axes>"
            ]
          },
          "metadata": {},
          "output_type": "display_data"
        }
      ],
      "source": [
        "import matplotlib.pyplot as plt\n",
        "# Plotting the bar graph\n",
        "label_counts = preprocessed_dataset[\"sentiment\"].value_counts()\n",
        "labels = [\"Positive\",\"Negative\",\"Neutral\"]\n",
        "plt.figure(figsize=(8, 6))\n",
        "bars = plt.bar(labels,label_counts, color=['blue', 'green', 'red'])\n",
        "plt.xlabel('Sentiment')\n",
        "plt.ylabel('Count')\n",
        "plt.title('Sentiment Distribution in the Train Dataset')\n",
        "for bar in bars:\n",
        "    yval = bar.get_height()\n",
        "    plt.text(bar.get_x() + bar.get_width()/2, yval, int(yval), ha='center', va='bottom')\n",
        "\n",
        "plt.show()"
      ]
    },
    {
      "cell_type": "markdown",
      "metadata": {},
      "source": [
        "## Custom Loss Function"
      ]
    },
    {
      "cell_type": "code",
      "execution_count": 67,
      "metadata": {
        "id": "UIAVhkJFlFO5"
      },
      "outputs": [],
      "source": [
        "import torch\n",
        "import torch.nn as nn\n",
        "import torch.nn.functional as F\n",
        "\n",
        "class FocalLoss(nn.Module):\n",
        "    def __init__(self, alpha=1, gamma=2, reduction='mean'):\n",
        "        super(FocalLoss, self).__init__()\n",
        "        self.alpha = alpha\n",
        "        self.gamma = gamma\n",
        "        self.reduction = reduction\n",
        "\n",
        "    def forward(self, inputs, targets):\n",
        "        CE_loss = F.cross_entropy(inputs, targets, reduction='none')\n",
        "        pt = torch.exp(-CE_loss)  # Prevents nans when probability 0\n",
        "        F_loss = self.alpha * (1 - pt)**self.gamma * CE_loss\n",
        "\n",
        "        if self.reduction == 'mean':\n",
        "            return torch.mean(F_loss)\n",
        "        elif self.reduction == 'sum':\n",
        "            return torch.sum(F_loss)\n",
        "        else:\n",
        "            return F_loss"
      ]
    },
    {
      "cell_type": "markdown",
      "metadata": {},
      "source": [
        "## c) Transformer Implementation"
      ]
    },
    {
      "cell_type": "code",
      "execution_count": 113,
      "metadata": {
        "id": "oWtpI9NDjiWf"
      },
      "outputs": [],
      "source": [
        "import transformers\n",
        "import torch.nn as nn\n",
        "import torch\n",
        "import torch.nn as nn\n",
        "import numpy as np\n",
        "\n",
        "from tqdm import tqdm\n",
        "from sklearn import metrics\n",
        "from sklearn.metrics import f1_score, accuracy_score\n",
        "from torch.utils.data import DataLoader\n",
        "from collections import Counter\n",
        "\n",
        "\n",
        "class BERTBaseUncasedClfHead(nn.Module):\n",
        "    def __init__(self):\n",
        "        super(BERTBaseUncasedClfHead, self).__init__()\n",
        "        self.bert = transformers.BertModel.from_pretrained(BERT_PATH)\n",
        "        # New dense layer\n",
        "        self.dense = nn.Linear(768, 512)\n",
        "\n",
        "        # Layer normalization\n",
        "        self.layer_norm = nn.LayerNorm(512)\n",
        "\n",
        "        # Dropout for the new dense layer\n",
        "        self.dropout = nn.Dropout(0.3)\n",
        "\n",
        "        # Output layer remains the same\n",
        "        self.out = nn.Linear(512, 3)\n",
        "\n",
        "    def freeze_base_model(self):\n",
        "        # Freeze all parameters in the BERT model\n",
        "        for param in self.bert.parameters():\n",
        "            param.requires_grad = False\n",
        "\n",
        "\n",
        "    def forward(self, ids, mask, token_type_ids):\n",
        "        _, pooled_output = self.bert(ids, attention_mask=mask, token_type_ids=token_type_ids, return_dict=False)\n",
        "\n",
        "        # Passing through the new dense layer\n",
        "        x = self.dense(pooled_output)\n",
        "\n",
        "        # Applying layer normalization\n",
        "        x = self.layer_norm(x)\n",
        "\n",
        "        # Applying dropout\n",
        "        x = self.dropout(x)\n",
        "\n",
        "        # Final output layer\n",
        "        output = self.out(x)\n",
        "        return output\n",
        "\n",
        "class RobertaGRUClassifier(nn.Module):\n",
        "    def __init__(self):\n",
        "        super(RobertaGRUClassifier, self).__init__()\n",
        "        # RoBERTa model\n",
        "        self.roberta = transformers.RobertaModel.from_pretrained('roberta-base')\n",
        "\n",
        "        # GRU layer\n",
        "        self.gru = nn.GRU(input_size=768, hidden_size=256, num_layers=1, batch_first=True)\n",
        "\n",
        "        # Batch Normalization\n",
        "        self.batch_norm = nn.BatchNorm1d(256)\n",
        "\n",
        "        # Dropout\n",
        "        self.dropout = nn.Dropout(0.3)\n",
        "\n",
        "        # Flatten Layer\n",
        "        self.flatten = nn.Flatten()\n",
        "\n",
        "        # Dense layers\n",
        "        self.dense1 = nn.Linear(256, 128)\n",
        "        self.dense2 = nn.Linear(128, 3)  # Assuming 3 classes for classification\n",
        "\n",
        "    def freeze_base_model(self):\n",
        "        # Freeze all parameters in the BERT model\n",
        "        for param in self.roberta.parameters():\n",
        "            param.requires_grad = False\n",
        "\n",
        "    def unfreeze_layers(self, last_n_layers):\n",
        "        # Freeze all layers first\n",
        "        for param in self.roberta.parameters():\n",
        "            param.requires_grad = False\n",
        "\n",
        "        # Unfreeze the last `last_n_layers`\n",
        "        for layer in self.roberta.encoder.layer[-last_n_layers:]:\n",
        "            for param in layer.parameters():\n",
        "                param.requires_grad = True\n",
        "\n",
        "    def forward(self, input_ids, attention_mask):\n",
        "        # RoBERTa outputs\n",
        "        roberta_output = self.roberta(input_ids=input_ids, attention_mask=attention_mask)\n",
        "        sequence_output = roberta_output.last_hidden_state\n",
        "\n",
        "        # GRU\n",
        "        gru_output, _ = self.gru(sequence_output)\n",
        "        gru_last_output = gru_output[:, -1, :]\n",
        "\n",
        "        # Apply batch normalization only if batch size > 1\n",
        "        if gru_last_output.size(0) > 1:\n",
        "            normalized_output = self.batch_norm(gru_last_output)\n",
        "        else:\n",
        "            normalized_output = gru_last_output\n",
        "\n",
        "        dropout_output = self.dropout(normalized_output)\n",
        "\n",
        "        # Flatten the output for the dense layer\n",
        "        flattened_output = self.flatten(dropout_output)\n",
        "\n",
        "        # Dense layers\n",
        "        dense_output = torch.relu(self.dense1(flattened_output))\n",
        "        logits = self.dense2(dense_output)\n",
        "\n",
        "        return logits"
      ]
    },
    {
      "cell_type": "markdown",
      "metadata": {},
      "source": [
        "# Training, Validation and Test Loops"
      ]
    },
    {
      "cell_type": "code",
      "execution_count": 146,
      "metadata": {
        "id": "PGfNn4hIk1Hy"
      },
      "outputs": [],
      "source": [
        "from sklearn.metrics import confusion_matrix, roc_curve, auc\n",
        "from itertools import cycle\n",
        "from sklearn.metrics import roc_auc_score\n",
        "from sklearn.preprocessing import label_binarize\n",
        "class Engine:\n",
        "    def __init__(self,model,device,labels,model_type):\n",
        "        self.model = model\n",
        "        self.device = device\n",
        "        self.labels = labels\n",
        "        self.model_type = model_type\n",
        "\n",
        "    def loss_fn(self, outputs, targets):\n",
        "        return nn.CrossEntropyLoss()(outputs.view(-1,3), targets.view(-1))\n",
        "\n",
        "    def focal_loss_fn(self, outputs, targets, alpha=1, gamma=2):\n",
        "        focal_loss = FocalLoss(alpha=alpha, gamma=gamma, reduction='mean')\n",
        "\n",
        "        return focal_loss(outputs.view(-1, 3), targets.view(-1))\n",
        "\n",
        "    def plot_confusion_matrix(self, targets, outputs, class_names):\n",
        "        # Convert outputs to predicted class indices\n",
        "        predicted_labels = np.argmax(outputs, axis=1)\n",
        "        cm = confusion_matrix(targets, predicted_labels)\n",
        "\n",
        "        plt.figure(figsize=(10, 10))\n",
        "        plt.imshow(cm, interpolation='nearest', cmap=plt.cm.Blues)\n",
        "        plt.title('Confusion Matrix')\n",
        "        plt.colorbar()\n",
        "\n",
        "        tick_marks = np.arange(len(class_names))\n",
        "        plt.xticks(tick_marks, class_names, rotation=45)\n",
        "        plt.yticks(tick_marks, class_names)\n",
        "\n",
        "        # Iterate over the confusion matrix and add labels to each cell\n",
        "        for i, j in np.ndindex(cm.shape):\n",
        "            plt.text(j, i, cm[i, j], horizontalalignment='center', color='white' if cm[i, j] > cm.max() / 2 else 'black')\n",
        "\n",
        "        plt.ylabel('True label')\n",
        "        plt.xlabel('Predicted label')\n",
        "        plt.show()\n",
        "\n",
        "    def plot_roc_curve(self,targets, outputs, n_classes):\n",
        "        # Compute ROC curve and ROC area for each class\n",
        "        fpr = dict()\n",
        "        tpr = dict()\n",
        "        roc_auc = dict()\n",
        "        targets_one_hot = np.eye(n_classes)[targets]  # Convert to one-hot encoding\n",
        "        for i in range(n_classes):\n",
        "            fpr[i], tpr[i], _ = roc_curve(targets_one_hot[:, i], np.array(outputs)[:, i])\n",
        "            roc_auc[i] = auc(fpr[i], tpr[i])\n",
        "\n",
        "        # Plot all ROC curves\n",
        "        plt.figure()\n",
        "        colors = cycle(['blue', 'red', 'green'])\n",
        "        for i, color in zip(range(n_classes), colors):\n",
        "            plt.plot(fpr[i], tpr[i], color=color, lw=2,\n",
        "                    label='ROC curve of class {0} (area = {1:0.2f})'.format(i, roc_auc[i]))\n",
        "        plt.xlabel('False Positive Rate')\n",
        "        plt.ylabel('True Positive Rate')\n",
        "        plt.title('Receiver Operating Characteristic (ROC) - multi-class')\n",
        "        plt.legend(loc=\"lower right\")\n",
        "        plt.show()\n",
        "\n",
        "    def train_fn(self, data_loader_tqdm, optimizer, scheduler):\n",
        "        self.model.train()\n",
        "        loss = None\n",
        "\n",
        "        total_loss = 0\n",
        "        total_accuracy = 0\n",
        "        num_batches = 0\n",
        "\n",
        "        for bi, d in data_loader_tqdm:\n",
        "            ids = d[\"ids\"].to(self.device, dtype=torch.long)\n",
        "            mask = d[\"mask\"].to(self.device, dtype=torch.long)\n",
        "            targets = d[\"targets\"].to(self.device, dtype=torch.long)\n",
        "\n",
        "            optimizer.zero_grad()\n",
        "\n",
        "            if self.model_type == \"bert\":\n",
        "                token_type_ids = d[\"token_type_ids\"].to(self.device, dtype=torch.long)\n",
        "                outputs = self.model(ids, mask, token_type_ids)\n",
        "            else:  # Assuming RoBERTa or similar\n",
        "                outputs = self.model(ids, mask)\n",
        "\n",
        "            loss = self.loss_fn(outputs, targets)\n",
        "\n",
        "\n",
        "            total_loss += loss.item()\n",
        "            num_batches += 1\n",
        "            preds = torch.argmax(outputs, dim=1)\n",
        "            accuracy = accuracy_score(targets.cpu().numpy(), preds.cpu().numpy())\n",
        "            total_accuracy += accuracy\n",
        "            # Calculate cumulative average\n",
        "            cumulative_avg_loss = total_loss / num_batches\n",
        "            cumulative_avg_accuracy = total_accuracy / num_batches\n",
        "            # Update tqdm description with cumulative average loss and accuracy\n",
        "            data_loader_tqdm.set_description(f'Loss: {cumulative_avg_loss:.4f},Accuracy: {cumulative_avg_accuracy:.4f}')\n",
        "\n",
        "            loss.backward()\n",
        "            optimizer.step()\n",
        "            scheduler.step()\n",
        "        return total_loss / len(data_loader_tqdm), total_accuracy / len(data_loader_tqdm)\n",
        "\n",
        "\n",
        "    def eval_fn(self,data_loader_tqdm):\n",
        "        self.model.eval()\n",
        "        fin_targets = []\n",
        "        fin_outputs = []\n",
        "        with torch.no_grad():\n",
        "            for bi, d in data_loader_tqdm:\n",
        "                ids = d[\"ids\"].to(self.device, dtype=torch.long)\n",
        "                mask = d[\"mask\"].to(self.device, dtype=torch.long)\n",
        "                targets = d[\"targets\"].to(self.device, dtype=torch.long)\n",
        "\n",
        "                if self.model_type == \"bert\":\n",
        "                    token_type_ids = d[\"token_type_ids\"].to(self.device, dtype=torch.long)\n",
        "                    outputs = self.model(ids, mask, token_type_ids)\n",
        "                else:  # Assuming RoBERTa or similar\n",
        "                    outputs = self.model(ids,mask)\n",
        "\n",
        "                # Convert model outputs to probabilities and then to class indices\n",
        "                probs = torch.softmax(outputs, dim=1)\n",
        "                fin_outputs.extend(probs.cpu().detach().numpy().tolist())\n",
        "                # Add the true labels\n",
        "                fin_targets.extend(targets.cpu().detach().numpy().tolist())\n",
        "        return fin_outputs, fin_targets\n",
        "\n",
        "    def test_eval_fn(self, test_data_loader):\n",
        "        self.model.eval()\n",
        "        all_targets = []\n",
        "        all_probabilities = []\n",
        "        all_predictions = []\n",
        "        self.model.to(self.device)\n",
        "        with torch.no_grad():\n",
        "            for bi, d in tqdm(enumerate(test_data_loader), total=len(test_data_loader)):\n",
        "                ids = d[\"ids\"].to(self.device, dtype=torch.long)\n",
        "                mask = d[\"mask\"].to(self.device, dtype=torch.long)\n",
        "                targets = d[\"targets\"].to(self.device, dtype=torch.long)\n",
        "                if self.model_type == \"bert\":\n",
        "                    token_type_ids = d[\"token_type_ids\"].to(self.device, dtype=torch.long)\n",
        "                    outputs = self.model(ids,mask,token_type_ids)\n",
        "                else:  # Assuming RoBERTa or similar\n",
        "                    outputs = self.model(ids,mask)\n",
        "                    _, predicted = torch.max(outputs, 1)\n",
        "                    probabilities = torch.softmax(outputs, dim=1).cpu().numpy()\n",
        "                    all_targets.extend(targets.view_as(predicted).cpu().numpy())\n",
        "                    all_probabilities.extend(probabilities)\n",
        "                    all_predictions.extend(predicted.cpu().numpy())\n",
        "        # Calculate F1 Score\n",
        "        f1 = f1_score(all_targets, all_predictions, average='weighted')\n",
        "        print(f'F1 Score: {f1}')\n",
        "\n",
        "        # Calculate and Print Test Accuracy\n",
        "        test_accuracy = accuracy_score(all_targets, all_predictions)\n",
        "        print(f'Test Accuracy: {test_accuracy:.2f}')\n",
        "\n",
        "        # One-hot encode the targets\n",
        "        num_classes = all_probabilities[0].size\n",
        "        all_targets_one_hot = label_binarize(all_targets, classes=range(num_classes))\n",
        "\n",
        "        # Calculate AUC for each class\n",
        "        auc_scores = {}\n",
        "        for i in range(num_classes):\n",
        "            auc_score = roc_auc_score(all_targets_one_hot[:, i], np.array(all_probabilities)[:, i], multi_class='ovr')\n",
        "            auc_scores[f'Class {i} AUC'] = auc_score\n",
        "\n",
        "        print(\"AUC Scores:\", auc_scores)\n",
        "        return all_targets, all_probabilities\n",
        "\n"
      ]
    },
    {
      "cell_type": "markdown",
      "metadata": {},
      "source": [
        "## Training "
      ]
    },
    {
      "cell_type": "code",
      "execution_count": 147,
      "metadata": {
        "id": "CA2IrM6glIrU"
      },
      "outputs": [],
      "source": [
        "import torch\n",
        "import os\n",
        "import pandas as pd\n",
        "import torch.nn as nn\n",
        "import numpy as np\n",
        "import sys\n",
        "\n",
        "from sklearn import model_selection\n",
        "from transformers import AdamW\n",
        "from transformers import get_linear_schedule_with_warmup\n",
        "\n",
        "def save_preprocessed_data(data, filepath):\n",
        "    data.to_csv(filepath, index=False)\n",
        "\n",
        "def load_preprocessed_data(filepath):\n",
        "    return pd.read_csv(filepath)\n",
        "\n",
        "def train(epoch, train_data_loader, engine, training_accuracy, training_loss, optimizer, scheduler):\n",
        "    # Training loop\n",
        "    final_loss = 0\n",
        "    final_accuracy = 0\n",
        "    with tqdm(enumerate(train_data_loader), total=len(train_data_loader), unit=\"Batch\") as data_loader_tqdm:\n",
        "        data_loader_tqdm.set_description(f\"Epoch {epoch}\")\n",
        "        train_loss, train_accuracy = engine.train_fn(data_loader_tqdm, optimizer, scheduler)\n",
        "        training_accuracy.append(train_accuracy)\n",
        "        training_loss.append(train_loss)\n",
        "    print(f\"\\nEpoch {epoch+1}/{EPOCHS}, Train Loss: {train_loss:.4f}, Train Accuracy: {train_accuracy:.4f}\")\n",
        "\n",
        "def evaluate(epoch, valid_data_loader, engine, validation_accuracy,best_accuracy, model):\n",
        "\n",
        "    with tqdm(enumerate(valid_data_loader), total=len(valid_data_loader)) as data_loader_tqdm:\n",
        "        outputs, targets = engine.eval_fn(data_loader_tqdm)\n",
        "\n",
        "    # Convert outputs to numpy arrays and then to class indices\n",
        "    predicted_labels = np.argmax(outputs, axis=1)\n",
        "    # Convert targets to numpy arrays\n",
        "    targets = np.array(targets)\n",
        "\n",
        "    accuracy = metrics.accuracy_score(targets, predicted_labels)\n",
        "    validation_accuracy.append(accuracy)\n",
        "    print(f\"Validation - Epoch: {epoch} Accuracy: {100. * accuracy}%\")\n",
        "    if accuracy > best_accuracy:\n",
        "        model_path = MODEL_PATH\n",
        "        model_dir = os.path.dirname(model_path)\n",
        "\n",
        "        if not os.path.exists(model_dir):\n",
        "            os.makedirs(model_dir)\n",
        "        torch.save(model.state_dict(), MODEL_PATH)\n",
        "        best_accuracy = accuracy\n",
        "\n",
        "def run(model_type):\n",
        "    warnings.filterwarnings('ignore')\n",
        "\n",
        "    # Check if preprocessed data exists\n",
        "\n",
        "    print(\"Preprocessing data...\")\n",
        "    # raw_data_df = pd.read_csv(TRAINING_FILE)\n",
        "    # proccessor = DatasetPreprocessor(raw_data_df)\n",
        "    # dfx = proccessor.preprocess_dataset()\n",
        "    dfx = load_preprocessed_data(BALANCED_DATASET_PATH)\n",
        "\n",
        "    df_train, df_valid = model_selection.train_test_split(\n",
        "        dfx, test_size=0.1, random_state=42, stratify=dfx.sentiment.values\n",
        "    )\n",
        "\n",
        "    df_train = df_train.reset_index(drop=True)\n",
        "    df_valid = df_valid.reset_index(drop=True)\n",
        "\n",
        "    if model_type.lower() == 'bert':\n",
        "        train_dataset = BERTDataset(\n",
        "            review=df_train.review.values, target=df_train.sentiment.values\n",
        "        )\n",
        "        valid_dataset = BERTDataset(\n",
        "            review=df_valid.review.values, target=df_valid.sentiment.values\n",
        "        )\n",
        "\n",
        "    elif model_type.lower() == 'roberta':\n",
        "        train_dataset = RoBERTaDataset(\n",
        "            review=df_train.review.values, target=df_train.sentiment.values\n",
        "        )\n",
        "        valid_dataset = RoBERTaDataset(\n",
        "            review=df_valid.review.values, target=df_valid.sentiment.values\n",
        "        )\n",
        "\n",
        "    train_data_loader = torch.utils.data.DataLoader(\n",
        "        train_dataset, batch_size=TRAIN_BATCH_SIZE, num_workers=4\n",
        "    )\n",
        "\n",
        "    valid_data_loader = torch.utils.data.DataLoader(\n",
        "        valid_dataset, batch_size=VALID_BATCH_SIZE, num_workers=1\n",
        "    )\n",
        "\n",
        "    device = torch.device(DEVICE)\n",
        "    if model_type.lower() == 'bert':\n",
        "        print(\"Picking Bert-Uncased Model\")\n",
        "        model = BERTBaseUncasedClfHead()\n",
        "    elif model_type.lower() == 'roberta':\n",
        "        print(\"Picking Robert-GRU Model\")\n",
        "        model = RobertaGRUClassifier()\n",
        "    else:\n",
        "        print(\"Model not supported\")\n",
        "        sys.exit(1)\n",
        "\n",
        "    model.to(device)\n",
        "    model.freeze_base_model()\n",
        "    param_optimizer = list(model.named_parameters())\n",
        "\n",
        "    num_train_steps = int(len(df_train) / TRAIN_BATCH_SIZE * EPOCHS)\n",
        "    optimizer = torch.optim.AdamW(model.parameters(),lr=3e-4)\n",
        "    scheduler = get_linear_schedule_with_warmup(\n",
        "        optimizer, num_warmup_steps=0, num_training_steps=num_train_steps\n",
        "    )\n",
        "\n",
        "    engine = Engine(model,device,df_train.sentiment.values,model_type.lower())\n",
        "    best_accuracy = 0\n",
        "    training_accuracy = []\n",
        "    training_loss = []\n",
        "    validation_accuracy = []\n",
        "    validation_loss = []\n",
        "\n",
        "    for epoch in range(EPOCHS):\n",
        "        train(epoch, train_data_loader, engine, training_accuracy, training_loss, optimizer, scheduler)\n",
        "        evaluate(epoch, valid_data_loader, engine, validation_accuracy,best_accuracy, model)\n",
        "\n",
        "    # Gradually unfreeze and train\n",
        "    model.unfreeze_layers(12)\n",
        "    print(f\"Unfreezing last {12} layers of RoBERTa.\")\n",
        "    optimizer = torch.optim.AdamW(model.parameters(),lr=3e-6)\n",
        "    scheduler = get_linear_schedule_with_warmup(\n",
        "        optimizer, num_warmup_steps=0, num_training_steps=num_train_steps\n",
        "    )\n",
        "    for epoch in range(8):\n",
        "        train(epoch, train_data_loader, engine, training_accuracy, training_loss, optimizer, scheduler)\n",
        "        evaluate(epoch, valid_data_loader, engine, validation_accuracy,best_accuracy,model)\n",
        "\n",
        "    return training_accuracy, training_loss, validation_accuracy\n",
        "\n"
      ]
    },
    {
      "cell_type": "markdown",
      "metadata": {},
      "source": [
        "## Test functions"
      ]
    },
    {
      "cell_type": "code",
      "execution_count": 134,
      "metadata": {
        "id": "gKTMlrweOC6l"
      },
      "outputs": [],
      "source": [
        "from sklearn.metrics import confusion_matrix, roc_curve, auc\n",
        "from itertools import cycle\n",
        "\n",
        "def run_test(model_path,model_type):\n",
        "\n",
        "    state_dict = torch.load(model_path)\n",
        "    if model_type.lower() == 'bert':\n",
        "        print(\"Picking Bert-Uncased Model\")\n",
        "        model = BERTBaseUncasedClfHead()\n",
        "    elif model_type.lower() == 'roberta':\n",
        "        print(\"Picking Robert-GRU Model\")\n",
        "        model = RobertaGRUClassifier()\n",
        "    else:\n",
        "        print(\"Model not supported\")\n",
        "        sys.exit(1)\n",
        "    model.load_state_dict(state_dict)\n",
        "\n",
        "    warnings.filterwarnings('ignore')\n",
        "    #Read the training dataset from the CSV file\n",
        "    test_raw_dataset = pd.read_csv(TEST_FILE).fillna(\"none\")\n",
        "\n",
        "    #Preprocess Data\n",
        "    processor = DatasetPreprocessor(test_raw_dataset)\n",
        "    df_test = processor.preprocess_dataset()\n",
        "\n",
        "    print(len(df_test))\n",
        "    df_test = df_test.reset_index(drop=True)\n",
        "\n",
        "    if model_type.lower() == 'bert':\n",
        "        test_dataset = BERTDataset(\n",
        "            review=df_test.review.values, target=df_test.sentiment.values\n",
        "        )\n",
        "\n",
        "    elif model_type.lower() == 'roberta':\n",
        "        test_dataset = RoBERTaDataset(\n",
        "            review=df_test.review.values, target=df_test.sentiment.values\n",
        "        )\n",
        "    test_data_loader = torch.utils.data.DataLoader(\n",
        "        test_dataset, batch_size=TEST_BATCH_SIZE, num_workers=4\n",
        "    )\n",
        "    class_names = ['Negative', 'Neutral', 'Positive']\n",
        "    engine = Engine(model,DEVICE,df_test.sentiment.values,model_type.lower())\n",
        "    targets, outputs = engine.test_eval_fn(test_data_loader)\n",
        "    engine.plot_confusion_matrix(targets, outputs, class_names)\n",
        "    engine.plot_roc_curve(targets, outputs, len(class_names))"
      ]
    },
    {
      "cell_type": "markdown",
      "metadata": {},
      "source": [
        "## Fine tuning and Hyperparameter Optimization"
      ]
    },
    {
      "cell_type": "markdown",
      "metadata": {},
      "source": [
        "## Training 1\n",
        "Roberta model is trained with following configuration:\n",
        "1. Epoch size = 10\n",
        "2. Training Batch Size = 32\n",
        "3. Validation Batch Size = 32\n",
        "4. Max Sequence length = 256\n",
        "5. Weight Decay Enabled Nadam Optimizer\n",
        "6. Bifocal Loss function to address the imbalanced dataset"
      ]
    },
    {
      "cell_type": "code",
      "execution_count": 53,
      "metadata": {
        "colab": {
          "base_uri": "https://localhost:8080/"
        },
        "id": "2o3pzKkZVDzX",
        "outputId": "a761aa6a-5736-412f-a680-d12353620bd0"
      },
      "outputs": [
        {
          "name": "stdout",
          "output_type": "stream",
          "text": [
            "Preprocessing data...\n",
            "Picking Robert-GRU Model\n"
          ]
        },
        {
          "name": "stderr",
          "output_type": "stream",
          "text": [
            "Some weights of RobertaModel were not initialized from the model checkpoint at roberta-base and are newly initialized: ['roberta.pooler.dense.weight', 'roberta.pooler.dense.bias']\n",
            "You should probably TRAIN this model on a down-stream task to be able to use it for predictions and inference.\n",
            "Loss: 0.6798,Accuracy: 0.7027: 100%|██████████| 4219/4219 [10:54<00:00,  6.44Batch/s]"
          ]
        },
        {
          "name": "stdout",
          "output_type": "stream",
          "text": [
            "Epoch 1/10, Train Loss: 0.6798, Train Accuracy: 0.7027\n"
          ]
        },
        {
          "name": "stderr",
          "output_type": "stream",
          "text": [
            "\n",
            "100%|██████████| 938/938 [01:09<00:00, 13.43it/s]\n"
          ]
        },
        {
          "name": "stdout",
          "output_type": "stream",
          "text": [
            "Validation - Epoch: 0 Accuracy: 73.86666666666667%\n"
          ]
        },
        {
          "name": "stderr",
          "output_type": "stream",
          "text": [
            "Loss: 0.6084,Accuracy: 0.7406: 100%|██████████| 4219/4219 [10:57<00:00,  6.42Batch/s]"
          ]
        },
        {
          "name": "stdout",
          "output_type": "stream",
          "text": [
            "Epoch 2/10, Train Loss: 0.6084, Train Accuracy: 0.7406\n"
          ]
        },
        {
          "name": "stderr",
          "output_type": "stream",
          "text": [
            "\n",
            "100%|██████████| 938/938 [01:10<00:00, 13.39it/s]\n"
          ]
        },
        {
          "name": "stdout",
          "output_type": "stream",
          "text": [
            "Validation - Epoch: 1 Accuracy: 74.04666666666667%\n"
          ]
        },
        {
          "name": "stderr",
          "output_type": "stream",
          "text": [
            "Loss: 0.5904,Accuracy: 0.7507: 100%|██████████| 4219/4219 [10:57<00:00,  6.42Batch/s]\n"
          ]
        },
        {
          "name": "stdout",
          "output_type": "stream",
          "text": [
            "Epoch 3/10, Train Loss: 0.5904, Train Accuracy: 0.7507\n"
          ]
        },
        {
          "name": "stderr",
          "output_type": "stream",
          "text": [
            "100%|██████████| 938/938 [01:09<00:00, 13.43it/s]\n"
          ]
        },
        {
          "name": "stdout",
          "output_type": "stream",
          "text": [
            "Validation - Epoch: 2 Accuracy: 75.16000000000001%\n"
          ]
        },
        {
          "name": "stderr",
          "output_type": "stream",
          "text": [
            "Loss: 0.5787,Accuracy: 0.7570: 100%|██████████| 4219/4219 [10:59<00:00,  6.40Batch/s]"
          ]
        },
        {
          "name": "stdout",
          "output_type": "stream",
          "text": [
            "Epoch 4/10, Train Loss: 0.5787, Train Accuracy: 0.7570\n"
          ]
        },
        {
          "name": "stderr",
          "output_type": "stream",
          "text": [
            "\n",
            "100%|██████████| 938/938 [01:09<00:00, 13.50it/s]\n"
          ]
        },
        {
          "name": "stdout",
          "output_type": "stream",
          "text": [
            "Validation - Epoch: 3 Accuracy: 75.73333333333333%\n"
          ]
        },
        {
          "name": "stderr",
          "output_type": "stream",
          "text": [
            "Loss: 0.5714,Accuracy: 0.7607: 100%|██████████| 4219/4219 [10:56<00:00,  6.42Batch/s]"
          ]
        },
        {
          "name": "stdout",
          "output_type": "stream",
          "text": [
            "Epoch 5/10, Train Loss: 0.5714, Train Accuracy: 0.7607\n"
          ]
        },
        {
          "name": "stderr",
          "output_type": "stream",
          "text": [
            "\n",
            "100%|██████████| 938/938 [01:09<00:00, 13.52it/s]\n"
          ]
        },
        {
          "name": "stdout",
          "output_type": "stream",
          "text": [
            "Validation - Epoch: 4 Accuracy: 75.95333333333333%\n"
          ]
        },
        {
          "name": "stderr",
          "output_type": "stream",
          "text": [
            "Loss: 0.5647,Accuracy: 0.7625: 100%|██████████| 4219/4219 [10:56<00:00,  6.43Batch/s]"
          ]
        },
        {
          "name": "stdout",
          "output_type": "stream",
          "text": [
            "Epoch 6/10, Train Loss: 0.5647, Train Accuracy: 0.7625\n"
          ]
        },
        {
          "name": "stderr",
          "output_type": "stream",
          "text": [
            "\n",
            "100%|██████████| 938/938 [01:09<00:00, 13.53it/s]\n"
          ]
        },
        {
          "name": "stdout",
          "output_type": "stream",
          "text": [
            "Validation - Epoch: 5 Accuracy: 76.60666666666667%\n"
          ]
        },
        {
          "name": "stderr",
          "output_type": "stream",
          "text": [
            "Loss: 0.5600,Accuracy: 0.7651: 100%|██████████| 4219/4219 [10:53<00:00,  6.46Batch/s]"
          ]
        },
        {
          "name": "stdout",
          "output_type": "stream",
          "text": [
            "Epoch 7/10, Train Loss: 0.5600, Train Accuracy: 0.7651\n"
          ]
        },
        {
          "name": "stderr",
          "output_type": "stream",
          "text": [
            "\n",
            "100%|██████████| 938/938 [01:09<00:00, 13.54it/s]"
          ]
        },
        {
          "name": "stdout",
          "output_type": "stream",
          "text": [
            "Validation - Epoch: 6 Accuracy: 76.6%\n"
          ]
        },
        {
          "name": "stderr",
          "output_type": "stream",
          "text": [
            "\n",
            "Loss: 0.5545,Accuracy: 0.7678: 100%|██████████| 4219/4219 [10:54<00:00,  6.44Batch/s]"
          ]
        },
        {
          "name": "stdout",
          "output_type": "stream",
          "text": [
            "Epoch 8/10, Train Loss: 0.5545, Train Accuracy: 0.7678\n"
          ]
        },
        {
          "name": "stderr",
          "output_type": "stream",
          "text": [
            "\n",
            "100%|██████████| 938/938 [01:09<00:00, 13.53it/s]\n"
          ]
        },
        {
          "name": "stdout",
          "output_type": "stream",
          "text": [
            "Validation - Epoch: 7 Accuracy: 76.91333333333333%\n"
          ]
        },
        {
          "name": "stderr",
          "output_type": "stream",
          "text": [
            "Loss: 0.5507,Accuracy: 0.7692: 100%|██████████| 4219/4219 [10:55<00:00,  6.43Batch/s]"
          ]
        },
        {
          "name": "stdout",
          "output_type": "stream",
          "text": [
            "Epoch 9/10, Train Loss: 0.5507, Train Accuracy: 0.7692\n"
          ]
        },
        {
          "name": "stderr",
          "output_type": "stream",
          "text": [
            "\n",
            "100%|██████████| 938/938 [01:09<00:00, 13.50it/s]\n"
          ]
        },
        {
          "name": "stdout",
          "output_type": "stream",
          "text": [
            "Validation - Epoch: 8 Accuracy: 77.22%\n"
          ]
        },
        {
          "name": "stderr",
          "output_type": "stream",
          "text": [
            "Loss: 0.5470,Accuracy: 0.7718: 100%|██████████| 4219/4219 [10:56<00:00,  6.43Batch/s]"
          ]
        },
        {
          "name": "stdout",
          "output_type": "stream",
          "text": [
            "Epoch 10/10, Train Loss: 0.5470, Train Accuracy: 0.7718\n"
          ]
        },
        {
          "name": "stderr",
          "output_type": "stream",
          "text": [
            "\n",
            "100%|██████████| 938/938 [01:09<00:00, 13.49it/s]"
          ]
        },
        {
          "name": "stdout",
          "output_type": "stream",
          "text": [
            "Validation - Epoch: 9 Accuracy: 77.16666666666666%\n"
          ]
        },
        {
          "name": "stderr",
          "output_type": "stream",
          "text": [
            "\n"
          ]
        }
      ],
      "source": [
        "training_accuracies, training_losses, validation_accuracies = run('roberta')"
      ]
    },
    {
      "cell_type": "markdown",
      "metadata": {},
      "source": [
        "## Plotting Results"
      ]
    },
    {
      "cell_type": "code",
      "execution_count": 55,
      "metadata": {
        "colab": {
          "base_uri": "https://localhost:8080/",
          "height": 410
        },
        "id": "VdOqKmA7x0TM",
        "outputId": "5668b097-afa8-4dc6-b90a-8f01a87cc6b2"
      },
      "outputs": [
        {
          "data": {
            "image/png": "[encoded data removed]",
            "text/plain": [
              "<Figure size 1200x400 with 2 Axes>"
            ]
          },
          "metadata": {},
          "output_type": "display_data"
        }
      ],
      "source": [
        "import matplotlib.pyplot as plt\n",
        "\n",
        "\n",
        "# Plotting the metrics\n",
        "plt.figure(figsize=(12, 4))\n",
        "\n",
        "# Plot training loss\n",
        "plt.subplot(1, 2, 1)\n",
        "plt.plot(training_losses, label='Training Loss')\n",
        "plt.xlabel('Epoch')\n",
        "plt.ylabel('Loss')\n",
        "plt.title('Training Loss Over Time')\n",
        "plt.legend()\n",
        "\n",
        "# Plot training and validation accuracy\n",
        "plt.subplot(1, 2, 2)\n",
        "plt.plot(training_accuracies, label='Training Accuracy')\n",
        "plt.plot(validation_accuracies, label='Validation Accuracy')\n",
        "plt.xlabel('Epoch')\n",
        "plt.ylabel('Accuracy')\n",
        "plt.title('Training & Validation Accuracy')\n",
        "plt.legend()\n",
        "\n",
        "plt.show()"
      ]
    },
    {
      "cell_type": "code",
      "execution_count": 62,
      "metadata": {
        "colab": {
          "base_uri": "https://localhost:8080/"
        },
        "id": "pQcrB0SOOV6J",
        "outputId": "b77ea870-5c96-4939-ef0d-ea1b12a8cffb"
      },
      "outputs": [
        {
          "name": "stdout",
          "output_type": "stream",
          "text": [
            "Picking Robert-GRU Model\n"
          ]
        },
        {
          "name": "stderr",
          "output_type": "stream",
          "text": [
            "Some weights of RobertaModel were not initialized from the model checkpoint at roberta-base and are newly initialized: ['roberta.pooler.dense.weight', 'roberta.pooler.dense.bias']\n",
            "You should probably TRAIN this model on a down-stream task to be able to use it for predictions and inference.\n"
          ]
        },
        {
          "name": "stdout",
          "output_type": "stream",
          "text": [
            "Preprocessing Dataset...\n",
            "1. Removing punctuations\n"
          ]
        },
        {
          "name": "stderr",
          "output_type": "stream",
          "text": [
            "100%|██████████| 13980/13980 [00:00<00:00, 47001.93it/s]\n"
          ]
        },
        {
          "name": "stdout",
          "output_type": "stream",
          "text": [
            "2. Converting text to lower case\n"
          ]
        },
        {
          "name": "stderr",
          "output_type": "stream",
          "text": [
            "100%|██████████| 13980/13980 [00:00<00:00, 668091.31it/s]\n"
          ]
        },
        {
          "name": "stdout",
          "output_type": "stream",
          "text": [
            "3. Removing Stop Words\n",
            "Stopwords already downloaded.\n"
          ]
        },
        {
          "name": "stderr",
          "output_type": "stream",
          "text": [
            "100%|██████████| 13980/13980 [00:02<00:00, 5831.71it/s]\n"
          ]
        },
        {
          "name": "stdout",
          "output_type": "stream",
          "text": [
            "4. Converting to stars to sentiment\n"
          ]
        },
        {
          "name": "stderr",
          "output_type": "stream",
          "text": [
            "100%|██████████| 13980/13980 [00:00<00:00, 969741.18it/s]\n"
          ]
        },
        {
          "name": "stdout",
          "output_type": "stream",
          "text": [
            "5. Enconding sentiments to 0, 1, 2 (Positive, Negative, Neutral)\n",
            "Preprocessing done!\n",
            "13980\n"
          ]
        },
        {
          "name": "stderr",
          "output_type": "stream",
          "text": [
            "100%|██████████| 437/437 [02:06<00:00,  3.46it/s]"
          ]
        },
        {
          "name": "stdout",
          "output_type": "stream",
          "text": [
            "F1 Score: 0.8278720719793964\n",
            "Test Accuracy: 0.82\n",
            "Accuracy for class 0: 0.9109442060085837\n",
            "Accuracy for class 1: 0.859513590844063\n",
            "Accuracy for class 2: 0.8698855507868384\n"
          ]
        },
        {
          "name": "stderr",
          "output_type": "stream",
          "text": [
            "\n"
          ]
        }
      ],
      "source": [
        "run_test('/content/models/model.pt','roberta')"
      ]
    },
    {
      "cell_type": "markdown",
      "metadata": {},
      "source": [
        "### Analysis:\n",
        "As we can see above the max training and validation accuracy reached is 77%. However, the test dataset scores given above which are quite impressive compared to the validation accuracy during training.\n",
        "Results:\n",
        "- F1 score = 0.827\n",
        "- Test Accuracy = 0.82"
      ]
    },
    {
      "cell_type": "markdown",
      "metadata": {},
      "source": [
        "### Training Experiment 2: Finetuning\n",
        "Gradual unfreezing of layers upto 5 layers of roberta Encoder\n",
        "Following roberta model configuration is used:\n",
        "1. Learning Rate = $3e^{-5}$\n",
        "2. Max Sequence Length = 256\n",
        "3. Epoch Size = Total of 12\n",
        "4. Training Batch Size = 32\n",
        "5. Validation Batch Size = 16\n",
        "6. AdamW Optimizer\n",
        "7. Categorical Cross Entropy Loss Function"
      ]
    },
    {
      "cell_type": "code",
      "execution_count": 104,
      "metadata": {
        "colab": {
          "base_uri": "https://localhost:8080/"
        },
        "id": "DNlkiBDGOmh8",
        "outputId": "a1fc2472-07d0-4ed5-a359-7353ff0d3b56"
      },
      "outputs": [
        {
          "name": "stdout",
          "output_type": "stream",
          "text": [
            "Preprocessing data...\n",
            "Picking Robert-GRU Model\n"
          ]
        },
        {
          "name": "stderr",
          "output_type": "stream",
          "text": [
            "Some weights of RobertaModel were not initialized from the model checkpoint at roberta-base and are newly initialized: ['roberta.pooler.dense.weight', 'roberta.pooler.dense.bias']\n",
            "You should probably TRAIN this model on a down-stream task to be able to use it for predictions and inference.\n",
            "Loss: 0.6920,Accuracy: 0.6979: 100%|██████████| 563/563 [01:27<00:00,  6.45Batch/s]"
          ]
        },
        {
          "name": "stdout",
          "output_type": "stream",
          "text": [
            "\n",
            "Epoch 1/2, Train Loss: 0.6920, Train Accuracy: 0.6979\n"
          ]
        },
        {
          "name": "stderr",
          "output_type": "stream",
          "text": [
            "\n",
            "100%|██████████| 125/125 [00:09<00:00, 13.19it/s]\n"
          ]
        },
        {
          "name": "stdout",
          "output_type": "stream",
          "text": [
            "Validation - Epoch: 0 Accuracy: 71.1%\n"
          ]
        },
        {
          "name": "stderr",
          "output_type": "stream",
          "text": [
            "Loss: 0.6173,Accuracy: 0.7368: 100%|██████████| 563/563 [01:27<00:00,  6.45Batch/s]"
          ]
        },
        {
          "name": "stdout",
          "output_type": "stream",
          "text": [
            "\n",
            "Epoch 2/2, Train Loss: 0.6173, Train Accuracy: 0.7368\n"
          ]
        },
        {
          "name": "stderr",
          "output_type": "stream",
          "text": [
            "\n",
            "100%|██████████| 125/125 [00:09<00:00, 13.20it/s]\n"
          ]
        },
        {
          "name": "stdout",
          "output_type": "stream",
          "text": [
            "Validation - Epoch: 1 Accuracy: 72.7%\n",
            "Unfreezing last 1 layers of RoBERTa.\n"
          ]
        },
        {
          "name": "stderr",
          "output_type": "stream",
          "text": [
            "Loss: 0.6003,Accuracy: 0.7453: 100%|██████████| 563/563 [01:36<00:00,  5.82Batch/s]"
          ]
        },
        {
          "name": "stdout",
          "output_type": "stream",
          "text": [
            "\n",
            "Epoch 1/2, Train Loss: 0.6003, Train Accuracy: 0.7453\n"
          ]
        },
        {
          "name": "stderr",
          "output_type": "stream",
          "text": [
            "\n",
            "100%|██████████| 125/125 [00:09<00:00, 13.11it/s]\n"
          ]
        },
        {
          "name": "stdout",
          "output_type": "stream",
          "text": [
            "Validation - Epoch: 0 Accuracy: 73.25%\n"
          ]
        },
        {
          "name": "stderr",
          "output_type": "stream",
          "text": [
            "Loss: 0.5941,Accuracy: 0.7444: 100%|██████████| 563/563 [01:36<00:00,  5.83Batch/s]"
          ]
        },
        {
          "name": "stdout",
          "output_type": "stream",
          "text": [
            "\n",
            "Epoch 2/2, Train Loss: 0.5941, Train Accuracy: 0.7444\n"
          ]
        },
        {
          "name": "stderr",
          "output_type": "stream",
          "text": [
            "\n",
            "100%|██████████| 125/125 [00:09<00:00, 13.20it/s]\n"
          ]
        },
        {
          "name": "stdout",
          "output_type": "stream",
          "text": [
            "Validation - Epoch: 1 Accuracy: 73.2%\n",
            "Unfreezing last 2 layers of RoBERTa.\n"
          ]
        },
        {
          "name": "stderr",
          "output_type": "stream",
          "text": [
            "Loss: 0.5878,Accuracy: 0.7486: 100%|██████████| 563/563 [01:49<00:00,  5.16Batch/s]"
          ]
        },
        {
          "name": "stdout",
          "output_type": "stream",
          "text": [
            "\n",
            "Epoch 1/2, Train Loss: 0.5878, Train Accuracy: 0.7486\n"
          ]
        },
        {
          "name": "stderr",
          "output_type": "stream",
          "text": [
            "\n",
            "100%|██████████| 125/125 [00:09<00:00, 13.24it/s]\n"
          ]
        },
        {
          "name": "stdout",
          "output_type": "stream",
          "text": [
            "Validation - Epoch: 0 Accuracy: 74.25%\n"
          ]
        },
        {
          "name": "stderr",
          "output_type": "stream",
          "text": [
            "Loss: 0.5712,Accuracy: 0.7593: 100%|██████████| 563/563 [01:49<00:00,  5.16Batch/s]"
          ]
        },
        {
          "name": "stdout",
          "output_type": "stream",
          "text": [
            "\n",
            "Epoch 2/2, Train Loss: 0.5712, Train Accuracy: 0.7593\n"
          ]
        },
        {
          "name": "stderr",
          "output_type": "stream",
          "text": [
            "\n",
            "100%|██████████| 125/125 [00:09<00:00, 13.24it/s]\n"
          ]
        },
        {
          "name": "stdout",
          "output_type": "stream",
          "text": [
            "Validation - Epoch: 1 Accuracy: 74.6%\n",
            "Unfreezing last 3 layers of RoBERTa.\n"
          ]
        },
        {
          "name": "stderr",
          "output_type": "stream",
          "text": [
            "Loss: 0.5605,Accuracy: 0.7635: 100%|██████████| 563/563 [02:01<00:00,  4.64Batch/s]"
          ]
        },
        {
          "name": "stdout",
          "output_type": "stream",
          "text": [
            "\n",
            "Epoch 1/2, Train Loss: 0.5605, Train Accuracy: 0.7635\n"
          ]
        },
        {
          "name": "stderr",
          "output_type": "stream",
          "text": [
            "\n",
            "100%|██████████| 125/125 [00:09<00:00, 13.22it/s]\n"
          ]
        },
        {
          "name": "stdout",
          "output_type": "stream",
          "text": [
            "Validation - Epoch: 0 Accuracy: 75.2%\n"
          ]
        },
        {
          "name": "stderr",
          "output_type": "stream",
          "text": [
            "Loss: 0.5428,Accuracy: 0.7728: 100%|██████████| 563/563 [02:01<00:00,  4.64Batch/s]"
          ]
        },
        {
          "name": "stdout",
          "output_type": "stream",
          "text": [
            "\n",
            "Epoch 2/2, Train Loss: 0.5428, Train Accuracy: 0.7728\n"
          ]
        },
        {
          "name": "stderr",
          "output_type": "stream",
          "text": [
            "\n",
            "100%|██████████| 125/125 [00:09<00:00, 13.25it/s]\n"
          ]
        },
        {
          "name": "stdout",
          "output_type": "stream",
          "text": [
            "Validation - Epoch: 1 Accuracy: 75.44999999999999%\n",
            "Unfreezing last 4 layers of RoBERTa.\n"
          ]
        },
        {
          "name": "stderr",
          "output_type": "stream",
          "text": [
            "Loss: 0.5372,Accuracy: 0.7741: 100%|██████████| 563/563 [02:13<00:00,  4.21Batch/s]"
          ]
        },
        {
          "name": "stdout",
          "output_type": "stream",
          "text": [
            "\n",
            "Epoch 1/2, Train Loss: 0.5372, Train Accuracy: 0.7741\n"
          ]
        },
        {
          "name": "stderr",
          "output_type": "stream",
          "text": [
            "\n",
            "100%|██████████| 125/125 [00:09<00:00, 13.24it/s]\n"
          ]
        },
        {
          "name": "stdout",
          "output_type": "stream",
          "text": [
            "Validation - Epoch: 0 Accuracy: 76.95%\n"
          ]
        },
        {
          "name": "stderr",
          "output_type": "stream",
          "text": [
            "Loss: 0.5188,Accuracy: 0.7841: 100%|██████████| 563/563 [02:13<00:00,  4.20Batch/s]"
          ]
        },
        {
          "name": "stdout",
          "output_type": "stream",
          "text": [
            "\n",
            "Epoch 2/2, Train Loss: 0.5188, Train Accuracy: 0.7841\n"
          ]
        },
        {
          "name": "stderr",
          "output_type": "stream",
          "text": [
            "\n",
            "100%|██████████| 125/125 [00:09<00:00, 13.19it/s]\n"
          ]
        },
        {
          "name": "stdout",
          "output_type": "stream",
          "text": [
            "Validation - Epoch: 1 Accuracy: 77.05%\n",
            "Unfreezing last 5 layers of RoBERTa.\n"
          ]
        },
        {
          "name": "stderr",
          "output_type": "stream",
          "text": [
            "Loss: 0.5098,Accuracy: 0.7887: 100%|██████████| 563/563 [02:26<00:00,  3.85Batch/s]"
          ]
        },
        {
          "name": "stdout",
          "output_type": "stream",
          "text": [
            "\n",
            "Epoch 1/2, Train Loss: 0.5098, Train Accuracy: 0.7887\n"
          ]
        },
        {
          "name": "stderr",
          "output_type": "stream",
          "text": [
            "\n",
            "100%|██████████| 125/125 [00:09<00:00, 13.28it/s]\n"
          ]
        },
        {
          "name": "stdout",
          "output_type": "stream",
          "text": [
            "Validation - Epoch: 0 Accuracy: 77.35%\n"
          ]
        },
        {
          "name": "stderr",
          "output_type": "stream",
          "text": [
            "Loss: 0.4878,Accuracy: 0.8004: 100%|██████████| 563/563 [02:26<00:00,  3.85Batch/s]"
          ]
        },
        {
          "name": "stdout",
          "output_type": "stream",
          "text": [
            "\n",
            "Epoch 2/2, Train Loss: 0.4878, Train Accuracy: 0.8004\n"
          ]
        },
        {
          "name": "stderr",
          "output_type": "stream",
          "text": [
            "\n",
            "100%|██████████| 125/125 [00:09<00:00, 13.25it/s]\n"
          ]
        },
        {
          "name": "stdout",
          "output_type": "stream",
          "text": [
            "Validation - Epoch: 1 Accuracy: 78.60000000000001%\n"
          ]
        }
      ],
      "source": [
        "training_accuracies, training_losses, validation_accuracies = run('roberta')"
      ]
    },
    {
      "cell_type": "code",
      "execution_count": 105,
      "metadata": {
        "colab": {
          "base_uri": "https://localhost:8080/",
          "height": 410
        },
        "id": "UjdEVk-UvlyW",
        "outputId": "13933266-ee4c-46a6-a3b2-ae4ef2f7bf35"
      },
      "outputs": [
        {
          "data": {
            "image/png": "[encoded data removed]",
            "text/plain": [
              "<Figure size 1200x400 with 2 Axes>"
            ]
          },
          "metadata": {},
          "output_type": "display_data"
        }
      ],
      "source": [
        "import matplotlib.pyplot as plt\n",
        "\n",
        "\n",
        "# Plotting the metrics\n",
        "plt.figure(figsize=(12, 4))\n",
        "\n",
        "# Plot training loss\n",
        "plt.subplot(1, 2, 1)\n",
        "plt.plot(training_losses, label='Training Loss')\n",
        "plt.xlabel('Epoch')\n",
        "plt.ylabel('Loss')\n",
        "plt.title('Training Loss Over Time')\n",
        "plt.legend()\n",
        "\n",
        "# Plot training and validation accuracy\n",
        "plt.subplot(1, 2, 2)\n",
        "plt.plot(training_accuracies, label='Training Accuracy')\n",
        "plt.plot(validation_accuracies, label='Validation Accuracy')\n",
        "plt.xlabel('Epoch')\n",
        "plt.ylabel('Accuracy')\n",
        "plt.title('Training & Validation Accuracy')\n",
        "plt.legend()\n",
        "\n",
        "plt.show()"
      ]
    },
    {
      "cell_type": "code",
      "execution_count": 106,
      "metadata": {
        "colab": {
          "base_uri": "https://localhost:8080/"
        },
        "id": "bhp3AGdGTtze",
        "outputId": "41190a7e-f552-40b0-aedd-5d30d0d98f72"
      },
      "outputs": [
        {
          "name": "stdout",
          "output_type": "stream",
          "text": [
            "Picking Robert-GRU Model\n"
          ]
        },
        {
          "name": "stderr",
          "output_type": "stream",
          "text": [
            "Some weights of RobertaModel were not initialized from the model checkpoint at roberta-base and are newly initialized: ['roberta.pooler.dense.weight', 'roberta.pooler.dense.bias']\n",
            "You should probably TRAIN this model on a down-stream task to be able to use it for predictions and inference.\n"
          ]
        },
        {
          "name": "stdout",
          "output_type": "stream",
          "text": [
            "Preprocessing Dataset...\n",
            "1. Removing punctuations\n"
          ]
        },
        {
          "name": "stderr",
          "output_type": "stream",
          "text": [
            "100%|██████████| 13980/13980 [00:00<00:00, 47456.48it/s]\n"
          ]
        },
        {
          "name": "stdout",
          "output_type": "stream",
          "text": [
            "2. Converting text to lower case\n"
          ]
        },
        {
          "name": "stderr",
          "output_type": "stream",
          "text": [
            "100%|██████████| 13980/13980 [00:00<00:00, 501963.55it/s]\n"
          ]
        },
        {
          "name": "stdout",
          "output_type": "stream",
          "text": [
            "3. Removing Stop Words\n",
            "Stopwords already downloaded.\n"
          ]
        },
        {
          "name": "stderr",
          "output_type": "stream",
          "text": [
            "100%|██████████| 13980/13980 [00:02<00:00, 5876.14it/s]\n"
          ]
        },
        {
          "name": "stdout",
          "output_type": "stream",
          "text": [
            "4. Converting to stars to sentiment\n"
          ]
        },
        {
          "name": "stderr",
          "output_type": "stream",
          "text": [
            "100%|██████████| 13980/13980 [00:00<00:00, 1042999.16it/s]\n"
          ]
        },
        {
          "name": "stdout",
          "output_type": "stream",
          "text": [
            "5. Enconding sentiments to 0, 1, 2 (Positive, Negative, Neutral)\n",
            "Preprocessing done!\n",
            "13980\n"
          ]
        },
        {
          "name": "stderr",
          "output_type": "stream",
          "text": [
            "100%|██████████| 437/437 [01:00<00:00,  7.27it/s]"
          ]
        },
        {
          "name": "stdout",
          "output_type": "stream",
          "text": [
            "F1 Score: 0.8283103641323982\n",
            "Test Accuracy: 0.81\n",
            "Accuracy for class 0: 0.9143776824034334\n",
            "Accuracy for class 1: 0.8434191702432046\n",
            "Accuracy for class 2: 0.8663805436337625\n"
          ]
        },
        {
          "name": "stderr",
          "output_type": "stream",
          "text": [
            "\n"
          ]
        }
      ],
      "source": [
        "run_test('/content/models/model.pt','roberta')"
      ]
    },
    {
      "cell_type": "markdown",
      "metadata": {},
      "source": [
        "### Training Experiment 1: Training with Balanced Dataset\n",
        "Following roberta model configuration is used:\n",
        "1. Dataset used is balanced. Minority classes are augmented to a size of 50000 and majority class is downsampled to 50000.\n",
        "2. Learning Rate = $3e^{-4}$ (when training with pretrained model freezed weights)\n",
        "3. Learning Rate = $3e^{-5}$ (when training with pretrained model unfreezed weights)\n",
        "4. Max Sequence Length = 256\n",
        "5. Epoch Size = 2(when training with pretrained model freezed weights) + 8(when training with pretrained model unfreezed weights)\n",
        "6. Training Batch Size = 32\n",
        "7. Validation Batch Size = 16\n",
        "8. AdamW Optimizer\n",
        "9. Categorical Cross Entropy Loss Function"
      ]
    },
    {
      "cell_type": "code",
      "execution_count": 120,
      "metadata": {
        "colab": {
          "base_uri": "https://localhost:8080/",
          "height": 901
        },
        "id": "PEy3glIgQ715",
        "outputId": "d39c64e7-91a7-4c44-b44b-7251656ed970"
      },
      "outputs": [
        {
          "name": "stdout",
          "output_type": "stream",
          "text": [
            "Preprocessing data...\n",
            "Picking Robert-GRU Model\n"
          ]
        },
        {
          "name": "stderr",
          "output_type": "stream",
          "text": [
            "Some weights of RobertaModel were not initialized from the model checkpoint at roberta-base and are newly initialized: ['roberta.pooler.dense.weight', 'roberta.pooler.dense.bias']\n",
            "You should probably TRAIN this model on a down-stream task to be able to use it for predictions and inference.\n",
            "Loss: 0.5990,Accuracy: 0.7442: 100%|██████████| 4219/4219 [10:56<00:00,  6.43Batch/s]"
          ]
        },
        {
          "name": "stdout",
          "output_type": "stream",
          "text": [
            "\n",
            "Epoch 1/2, Train Loss: 0.5990, Train Accuracy: 0.7442\n"
          ]
        },
        {
          "name": "stderr",
          "output_type": "stream",
          "text": [
            "\n",
            "100%|██████████| 938/938 [01:09<00:00, 13.47it/s]\n"
          ]
        },
        {
          "name": "stdout",
          "output_type": "stream",
          "text": [
            "Validation - Epoch: 0 Accuracy: 78.02%\n"
          ]
        },
        {
          "name": "stderr",
          "output_type": "stream",
          "text": [
            "Loss: 0.5146,Accuracy: 0.7847: 100%|██████████| 4219/4219 [10:56<00:00,  6.42Batch/s]"
          ]
        },
        {
          "name": "stdout",
          "output_type": "stream",
          "text": [
            "\n",
            "Epoch 2/2, Train Loss: 0.5146, Train Accuracy: 0.7847\n"
          ]
        },
        {
          "name": "stderr",
          "output_type": "stream",
          "text": [
            "\n",
            "100%|██████████| 938/938 [01:09<00:00, 13.47it/s]\n"
          ]
        },
        {
          "name": "stdout",
          "output_type": "stream",
          "text": [
            "Validation - Epoch: 1 Accuracy: 80.52%\n",
            "Unfreezing last 12 layers of RoBERTa.\n"
          ]
        },
        {
          "name": "stderr",
          "output_type": "stream",
          "text": [
            "Loss: 0.4206,Accuracy: 0.8276: 100%|██████████| 4219/4219 [29:23<00:00,  2.39Batch/s]"
          ]
        },
        {
          "name": "stdout",
          "output_type": "stream",
          "text": [
            "\n",
            "Epoch 1/2, Train Loss: 0.4206, Train Accuracy: 0.8276\n"
          ]
        },
        {
          "name": "stderr",
          "output_type": "stream",
          "text": [
            "\n",
            "100%|██████████| 938/938 [01:09<00:00, 13.45it/s]\n"
          ]
        },
        {
          "name": "stdout",
          "output_type": "stream",
          "text": [
            "Validation - Epoch: 0 Accuracy: 85.22666666666666%\n"
          ]
        },
        {
          "name": "stderr",
          "output_type": "stream",
          "text": [
            "Loss: 0.3678,Accuracy: 0.8508: 100%|██████████| 4219/4219 [29:06<00:00,  2.42Batch/s]"
          ]
        },
        {
          "name": "stdout",
          "output_type": "stream",
          "text": [
            "\n",
            "Epoch 2/2, Train Loss: 0.3678, Train Accuracy: 0.8508\n"
          ]
        },
        {
          "name": "stderr",
          "output_type": "stream",
          "text": [
            "\n",
            "100%|██████████| 938/938 [01:09<00:00, 13.51it/s]\n"
          ]
        },
        {
          "name": "stdout",
          "output_type": "stream",
          "text": [
            "Validation - Epoch: 1 Accuracy: 85.69333333333333%\n"
          ]
        },
        {
          "name": "stderr",
          "output_type": "stream",
          "text": [
            "Loss: 0.3556,Accuracy: 0.8552: 100%|██████████| 4219/4219 [29:09<00:00,  2.41Batch/s]"
          ]
        },
        {
          "name": "stdout",
          "output_type": "stream",
          "text": [
            "\n",
            "Epoch 3/2, Train Loss: 0.3556, Train Accuracy: 0.8552\n"
          ]
        },
        {
          "name": "stderr",
          "output_type": "stream",
          "text": [
            "\n",
            "100%|██████████| 938/938 [01:09<00:00, 13.49it/s]\n"
          ]
        },
        {
          "name": "stdout",
          "output_type": "stream",
          "text": [
            "Validation - Epoch: 2 Accuracy: 85.67333333333333%\n"
          ]
        },
        {
          "name": "stderr",
          "output_type": "stream",
          "text": [
            "Loss: 0.3482,Accuracy: 0.8583:  30%|██▉       | 1264/4219 [08:42<20:21,  2.42Batch/s]\n"
          ]
        },
        {
          "ename": "KeyboardInterrupt",
          "evalue": "ignored",
          "output_type": "error",
          "traceback": [
            "\u001b[0;31m---------------------------------------------------------------------------\u001b[0m",
            "\u001b[0;31mKeyboardInterrupt\u001b[0m                         Traceback (most recent call last)",
            "\u001b[0;32m<ipython-input-120-e989628efde1>\u001b[0m in \u001b[0;36m<cell line: 1>\u001b[0;34m()\u001b[0m\n\u001b[0;32m----> 1\u001b[0;31m \u001b[0mtraining_accuracies\u001b[0m\u001b[0;34m,\u001b[0m \u001b[0mtraining_losses\u001b[0m\u001b[0;34m,\u001b[0m \u001b[0mvalidation_accuracies\u001b[0m \u001b[0;34m=\u001b[0m \u001b[0mrun\u001b[0m\u001b[0;34m(\u001b[0m\u001b[0;34m'roberta'\u001b[0m\u001b[0;34m)\u001b[0m\u001b[0;34m\u001b[0m\u001b[0;34m\u001b[0m\u001b[0m\n\u001b[0m",
            "\u001b[0;32m<ipython-input-119-9c30d21b203a>\u001b[0m in \u001b[0;36mrun\u001b[0;34m(model_type)\u001b[0m\n\u001b[1;32m    131\u001b[0m     )\n\u001b[1;32m    132\u001b[0m     \u001b[0;32mfor\u001b[0m \u001b[0mepoch\u001b[0m \u001b[0;32min\u001b[0m \u001b[0mrange\u001b[0m\u001b[0;34m(\u001b[0m\u001b[0;36m8\u001b[0m\u001b[0;34m)\u001b[0m\u001b[0;34m:\u001b[0m\u001b[0;34m\u001b[0m\u001b[0;34m\u001b[0m\u001b[0m\n\u001b[0;32m--> 133\u001b[0;31m         \u001b[0mtrain\u001b[0m\u001b[0;34m(\u001b[0m\u001b[0mepoch\u001b[0m\u001b[0;34m,\u001b[0m \u001b[0mtrain_data_loader\u001b[0m\u001b[0;34m,\u001b[0m \u001b[0mengine\u001b[0m\u001b[0;34m,\u001b[0m \u001b[0mtraining_accuracy\u001b[0m\u001b[0;34m,\u001b[0m \u001b[0mtraining_loss\u001b[0m\u001b[0;34m,\u001b[0m \u001b[0moptimizer\u001b[0m\u001b[0;34m,\u001b[0m \u001b[0mscheduler\u001b[0m\u001b[0;34m)\u001b[0m\u001b[0;34m\u001b[0m\u001b[0;34m\u001b[0m\u001b[0m\n\u001b[0m\u001b[1;32m    134\u001b[0m         \u001b[0mevaluate\u001b[0m\u001b[0;34m(\u001b[0m\u001b[0mepoch\u001b[0m\u001b[0;34m,\u001b[0m \u001b[0mvalid_data_loader\u001b[0m\u001b[0;34m,\u001b[0m \u001b[0mengine\u001b[0m\u001b[0;34m,\u001b[0m \u001b[0mvalidation_accuracy\u001b[0m\u001b[0;34m,\u001b[0m\u001b[0mbest_accuracy\u001b[0m\u001b[0;34m,\u001b[0m\u001b[0mmodel\u001b[0m\u001b[0;34m)\u001b[0m\u001b[0;34m\u001b[0m\u001b[0;34m\u001b[0m\u001b[0m\n\u001b[1;32m    135\u001b[0m \u001b[0;34m\u001b[0m\u001b[0m\n",
            "\u001b[0;32m<ipython-input-119-9c30d21b203a>\u001b[0m in \u001b[0;36mtrain\u001b[0;34m(epoch, train_data_loader, engine, training_accuracy, training_loss, optimizer, scheduler)\u001b[0m\n\u001b[1;32m     22\u001b[0m     \u001b[0;32mwith\u001b[0m \u001b[0mtqdm\u001b[0m\u001b[0;34m(\u001b[0m\u001b[0menumerate\u001b[0m\u001b[0;34m(\u001b[0m\u001b[0mtrain_data_loader\u001b[0m\u001b[0;34m)\u001b[0m\u001b[0;34m,\u001b[0m \u001b[0mtotal\u001b[0m\u001b[0;34m=\u001b[0m\u001b[0mlen\u001b[0m\u001b[0;34m(\u001b[0m\u001b[0mtrain_data_loader\u001b[0m\u001b[0;34m)\u001b[0m\u001b[0;34m,\u001b[0m \u001b[0munit\u001b[0m\u001b[0;34m=\u001b[0m\u001b[0;34m\"Batch\"\u001b[0m\u001b[0;34m)\u001b[0m \u001b[0;32mas\u001b[0m \u001b[0mdata_loader_tqdm\u001b[0m\u001b[0;34m:\u001b[0m\u001b[0;34m\u001b[0m\u001b[0;34m\u001b[0m\u001b[0m\n\u001b[1;32m     23\u001b[0m         \u001b[0mdata_loader_tqdm\u001b[0m\u001b[0;34m.\u001b[0m\u001b[0mset_description\u001b[0m\u001b[0;34m(\u001b[0m\u001b[0;34mf\"Epoch {epoch}\"\u001b[0m\u001b[0;34m)\u001b[0m\u001b[0;34m\u001b[0m\u001b[0;34m\u001b[0m\u001b[0m\n\u001b[0;32m---> 24\u001b[0;31m         \u001b[0mtrain_loss\u001b[0m\u001b[0;34m,\u001b[0m \u001b[0mtrain_accuracy\u001b[0m \u001b[0;34m=\u001b[0m \u001b[0mengine\u001b[0m\u001b[0;34m.\u001b[0m\u001b[0mtrain_fn\u001b[0m\u001b[0;34m(\u001b[0m\u001b[0mdata_loader_tqdm\u001b[0m\u001b[0;34m,\u001b[0m \u001b[0moptimizer\u001b[0m\u001b[0;34m,\u001b[0m \u001b[0mscheduler\u001b[0m\u001b[0;34m)\u001b[0m\u001b[0;34m\u001b[0m\u001b[0;34m\u001b[0m\u001b[0m\n\u001b[0m\u001b[1;32m     25\u001b[0m         \u001b[0mtraining_accuracy\u001b[0m\u001b[0;34m.\u001b[0m\u001b[0mappend\u001b[0m\u001b[0;34m(\u001b[0m\u001b[0mtrain_accuracy\u001b[0m\u001b[0;34m)\u001b[0m\u001b[0;34m\u001b[0m\u001b[0;34m\u001b[0m\u001b[0m\n\u001b[1;32m     26\u001b[0m         \u001b[0mtraining_loss\u001b[0m\u001b[0;34m.\u001b[0m\u001b[0mappend\u001b[0m\u001b[0;34m(\u001b[0m\u001b[0mtrain_loss\u001b[0m\u001b[0;34m)\u001b[0m\u001b[0;34m\u001b[0m\u001b[0;34m\u001b[0m\u001b[0m\n",
            "\u001b[0;32m<ipython-input-114-875c5d824fc8>\u001b[0m in \u001b[0;36mtrain_fn\u001b[0;34m(self, data_loader_tqdm, optimizer, scheduler)\u001b[0m\n\u001b[1;32m     23\u001b[0m \u001b[0;34m\u001b[0m\u001b[0m\n\u001b[1;32m     24\u001b[0m         \u001b[0;32mfor\u001b[0m \u001b[0mbi\u001b[0m\u001b[0;34m,\u001b[0m \u001b[0md\u001b[0m \u001b[0;32min\u001b[0m \u001b[0mdata_loader_tqdm\u001b[0m\u001b[0;34m:\u001b[0m\u001b[0;34m\u001b[0m\u001b[0;34m\u001b[0m\u001b[0m\n\u001b[0;32m---> 25\u001b[0;31m             \u001b[0mids\u001b[0m \u001b[0;34m=\u001b[0m \u001b[0md\u001b[0m\u001b[0;34m[\u001b[0m\u001b[0;34m\"ids\"\u001b[0m\u001b[0;34m]\u001b[0m\u001b[0;34m.\u001b[0m\u001b[0mto\u001b[0m\u001b[0;34m(\u001b[0m\u001b[0mself\u001b[0m\u001b[0;34m.\u001b[0m\u001b[0mdevice\u001b[0m\u001b[0;34m,\u001b[0m \u001b[0mdtype\u001b[0m\u001b[0;34m=\u001b[0m\u001b[0mtorch\u001b[0m\u001b[0;34m.\u001b[0m\u001b[0mlong\u001b[0m\u001b[0;34m)\u001b[0m\u001b[0;34m\u001b[0m\u001b[0;34m\u001b[0m\u001b[0m\n\u001b[0m\u001b[1;32m     26\u001b[0m             \u001b[0mmask\u001b[0m \u001b[0;34m=\u001b[0m \u001b[0md\u001b[0m\u001b[0;34m[\u001b[0m\u001b[0;34m\"mask\"\u001b[0m\u001b[0;34m]\u001b[0m\u001b[0;34m.\u001b[0m\u001b[0mto\u001b[0m\u001b[0;34m(\u001b[0m\u001b[0mself\u001b[0m\u001b[0;34m.\u001b[0m\u001b[0mdevice\u001b[0m\u001b[0;34m,\u001b[0m \u001b[0mdtype\u001b[0m\u001b[0;34m=\u001b[0m\u001b[0mtorch\u001b[0m\u001b[0;34m.\u001b[0m\u001b[0mlong\u001b[0m\u001b[0;34m)\u001b[0m\u001b[0;34m\u001b[0m\u001b[0;34m\u001b[0m\u001b[0m\n\u001b[1;32m     27\u001b[0m             \u001b[0mtargets\u001b[0m \u001b[0;34m=\u001b[0m \u001b[0md\u001b[0m\u001b[0;34m[\u001b[0m\u001b[0;34m\"targets\"\u001b[0m\u001b[0;34m]\u001b[0m\u001b[0;34m.\u001b[0m\u001b[0mto\u001b[0m\u001b[0;34m(\u001b[0m\u001b[0mself\u001b[0m\u001b[0;34m.\u001b[0m\u001b[0mdevice\u001b[0m\u001b[0;34m,\u001b[0m \u001b[0mdtype\u001b[0m\u001b[0;34m=\u001b[0m\u001b[0mtorch\u001b[0m\u001b[0;34m.\u001b[0m\u001b[0mlong\u001b[0m\u001b[0;34m)\u001b[0m\u001b[0;34m\u001b[0m\u001b[0;34m\u001b[0m\u001b[0m\n",
            "\u001b[0;31mKeyboardInterrupt\u001b[0m: "
          ]
        }
      ],
      "source": [
        "training_accuracies, training_losses, validation_accuracies = run('roberta')"
      ]
    },
    {
      "cell_type": "markdown",
      "metadata": {
        "id": "93LuQ4Z5-fwz"
      },
      "source": [
        "## Experiment 2: Training Without Balanced Dataset\n",
        "Following roberta model configuration is used:\n",
        "1. Learning Rate = $3e^{-4}$ (when training with pretrained model freezed weights)\n",
        "2. Learning Rate = $3e^{-5}$ (when training with pretrained model unfreezed weights)\n",
        "3. Max Sequence Length = 256\n",
        "4. Epoch Size = 2(when training with pretrained model freezed weights) + 8(when training with pretrained model unfreezed weights)\n",
        "5. Training Batch Size = 32\n",
        "6. Validation Batch Size = 16\n",
        "7. AdamW Optimizer\n",
        "8. Categorical Cross Entropy Loss Function"
      ]
    },
    {
      "cell_type": "code",
      "execution_count": 116,
      "metadata": {
        "colab": {
          "base_uri": "https://localhost:8080/"
        },
        "id": "2X8x-ZY88bAw",
        "outputId": "323d7c5d-45ec-4cb5-beaa-9fb6d8f4689e"
      },
      "outputs": [
        {
          "name": "stdout",
          "output_type": "stream",
          "text": [
            "Preprocessing data...\n",
            "Preprocessing Dataset...\n",
            "1. Removing punctuations\n"
          ]
        },
        {
          "name": "stderr",
          "output_type": "stream",
          "text": [
            "100%|██████████| 174757/174757 [00:04<00:00, 43386.00it/s]\n"
          ]
        },
        {
          "name": "stdout",
          "output_type": "stream",
          "text": [
            "2. Converting text to lower case\n"
          ]
        },
        {
          "name": "stderr",
          "output_type": "stream",
          "text": [
            "100%|██████████| 174757/174757 [00:00<00:00, 506955.04it/s]\n"
          ]
        },
        {
          "name": "stdout",
          "output_type": "stream",
          "text": [
            "3. Removing Stop Words\n",
            "Stopwords already downloaded.\n"
          ]
        },
        {
          "name": "stderr",
          "output_type": "stream",
          "text": [
            "100%|██████████| 174757/174757 [00:30<00:00, 5639.49it/s]\n"
          ]
        },
        {
          "name": "stdout",
          "output_type": "stream",
          "text": [
            "4. Converting to stars to sentiment\n"
          ]
        },
        {
          "name": "stderr",
          "output_type": "stream",
          "text": [
            "100%|██████████| 174757/174757 [00:00<00:00, 1017415.80it/s]\n"
          ]
        },
        {
          "name": "stdout",
          "output_type": "stream",
          "text": [
            "5. Enconding sentiments to 0, 1, 2 (Positive, Negative, Neutral)\n",
            "Preprocessing done!\n",
            "Picking Robert-GRU Model\n"
          ]
        },
        {
          "name": "stderr",
          "output_type": "stream",
          "text": [
            "Some weights of RobertaModel were not initialized from the model checkpoint at roberta-base and are newly initialized: ['roberta.pooler.dense.weight', 'roberta.pooler.dense.bias']\n",
            "You should probably TRAIN this model on a down-stream task to be able to use it for predictions and inference.\n",
            "Loss: 0.4201,Accuracy: 0.8392: 100%|██████████| 4916/4916 [12:37<00:00,  6.49Batch/s]"
          ]
        },
        {
          "name": "stdout",
          "output_type": "stream",
          "text": [
            "\n",
            "Epoch 1/2, Train Loss: 0.4201, Train Accuracy: 0.8392\n"
          ]
        },
        {
          "name": "stderr",
          "output_type": "stream",
          "text": [
            "\n",
            "100%|██████████| 1093/1093 [01:20<00:00, 13.50it/s]\n"
          ]
        },
        {
          "name": "stdout",
          "output_type": "stream",
          "text": [
            "Validation - Epoch: 0 Accuracy: 85.88349736781872%\n"
          ]
        },
        {
          "name": "stderr",
          "output_type": "stream",
          "text": [
            "Loss: 0.3719,Accuracy: 0.8572: 100%|██████████| 4916/4916 [12:37<00:00,  6.49Batch/s]"
          ]
        },
        {
          "name": "stdout",
          "output_type": "stream",
          "text": [
            "\n",
            "Epoch 2/2, Train Loss: 0.3719, Train Accuracy: 0.8572\n"
          ]
        },
        {
          "name": "stderr",
          "output_type": "stream",
          "text": [
            "\n",
            "100%|██████████| 1093/1093 [01:21<00:00, 13.49it/s]\n"
          ]
        },
        {
          "name": "stdout",
          "output_type": "stream",
          "text": [
            "Validation - Epoch: 1 Accuracy: 87.04509040970474%\n",
            "Unfreezing last 12 layers of RoBERTa.\n"
          ]
        },
        {
          "name": "stderr",
          "output_type": "stream",
          "text": [
            "Loss: 0.3177,Accuracy: 0.8782: 100%|██████████| 4916/4916 [33:51<00:00,  2.42Batch/s]"
          ]
        },
        {
          "name": "stdout",
          "output_type": "stream",
          "text": [
            "\n",
            "Epoch 1/2, Train Loss: 0.3177, Train Accuracy: 0.8782\n"
          ]
        },
        {
          "name": "stderr",
          "output_type": "stream",
          "text": [
            "\n",
            "100%|██████████| 1093/1093 [01:21<00:00, 13.47it/s]\n"
          ]
        },
        {
          "name": "stdout",
          "output_type": "stream",
          "text": [
            "Validation - Epoch: 0 Accuracy: 88.78461890592813%\n"
          ]
        },
        {
          "name": "stderr",
          "output_type": "stream",
          "text": [
            "Loss: 0.2811,Accuracy: 0.8926: 100%|██████████| 4916/4916 [33:52<00:00,  2.42Batch/s]"
          ]
        },
        {
          "name": "stdout",
          "output_type": "stream",
          "text": [
            "\n",
            "Epoch 2/2, Train Loss: 0.2811, Train Accuracy: 0.8926\n"
          ]
        },
        {
          "name": "stderr",
          "output_type": "stream",
          "text": [
            "\n",
            "100%|██████████| 1093/1093 [01:21<00:00, 13.47it/s]\n"
          ]
        },
        {
          "name": "stdout",
          "output_type": "stream",
          "text": [
            "Validation - Epoch: 1 Accuracy: 89.43121995880064%\n"
          ]
        },
        {
          "name": "stderr",
          "output_type": "stream",
          "text": [
            "Loss: 0.2718,Accuracy: 0.8964: 100%|██████████| 4916/4916 [33:51<00:00,  2.42Batch/s]"
          ]
        },
        {
          "name": "stdout",
          "output_type": "stream",
          "text": [
            "\n",
            "Epoch 3/2, Train Loss: 0.2718, Train Accuracy: 0.8964\n"
          ]
        },
        {
          "name": "stderr",
          "output_type": "stream",
          "text": [
            "\n",
            "100%|██████████| 1093/1093 [01:21<00:00, 13.46it/s]\n"
          ]
        },
        {
          "name": "stdout",
          "output_type": "stream",
          "text": [
            "Validation - Epoch: 2 Accuracy: 89.41977569237812%\n"
          ]
        },
        {
          "name": "stderr",
          "output_type": "stream",
          "text": [
            "Loss: 0.2715,Accuracy: 0.8961: 100%|██████████| 4916/4916 [33:51<00:00,  2.42Batch/s]"
          ]
        },
        {
          "name": "stdout",
          "output_type": "stream",
          "text": [
            "\n",
            "Epoch 4/2, Train Loss: 0.2715, Train Accuracy: 0.8961\n"
          ]
        },
        {
          "name": "stderr",
          "output_type": "stream",
          "text": [
            "\n",
            "100%|██████████| 1093/1093 [01:21<00:00, 13.36it/s]\n"
          ]
        },
        {
          "name": "stdout",
          "output_type": "stream",
          "text": [
            "Validation - Epoch: 3 Accuracy: 89.4369420920119%\n"
          ]
        },
        {
          "name": "stderr",
          "output_type": "stream",
          "text": [
            "Loss: 0.2707,Accuracy: 0.8965: 100%|██████████| 4916/4916 [33:52<00:00,  2.42Batch/s]"
          ]
        },
        {
          "name": "stdout",
          "output_type": "stream",
          "text": [
            "\n",
            "Epoch 5/2, Train Loss: 0.2707, Train Accuracy: 0.8965\n"
          ]
        },
        {
          "name": "stderr",
          "output_type": "stream",
          "text": [
            "\n",
            "100%|██████████| 1093/1093 [01:20<00:00, 13.52it/s]\n"
          ]
        },
        {
          "name": "stdout",
          "output_type": "stream",
          "text": [
            "Validation - Epoch: 4 Accuracy: 89.41977569237812%\n"
          ]
        },
        {
          "name": "stderr",
          "output_type": "stream",
          "text": [
            "Loss: 0.2714,Accuracy: 0.8957: 100%|██████████| 4916/4916 [33:51<00:00,  2.42Batch/s]"
          ]
        },
        {
          "name": "stdout",
          "output_type": "stream",
          "text": [
            "\n",
            "Epoch 6/2, Train Loss: 0.2714, Train Accuracy: 0.8957\n"
          ]
        },
        {
          "name": "stderr",
          "output_type": "stream",
          "text": [
            "\n",
            "100%|██████████| 1093/1093 [01:21<00:00, 13.49it/s]\n"
          ]
        },
        {
          "name": "stdout",
          "output_type": "stream",
          "text": [
            "Validation - Epoch: 5 Accuracy: 89.43121995880064%\n"
          ]
        },
        {
          "name": "stderr",
          "output_type": "stream",
          "text": [
            "Loss: 0.2711,Accuracy: 0.8962: 100%|██████████| 4916/4916 [33:51<00:00,  2.42Batch/s]"
          ]
        },
        {
          "name": "stdout",
          "output_type": "stream",
          "text": [
            "\n",
            "Epoch 7/2, Train Loss: 0.2711, Train Accuracy: 0.8962\n"
          ]
        },
        {
          "name": "stderr",
          "output_type": "stream",
          "text": [
            "\n",
            "100%|██████████| 1093/1093 [01:20<00:00, 13.54it/s]\n"
          ]
        },
        {
          "name": "stdout",
          "output_type": "stream",
          "text": [
            "Validation - Epoch: 6 Accuracy: 89.42549782558939%\n"
          ]
        },
        {
          "name": "stderr",
          "output_type": "stream",
          "text": [
            "Loss: 0.2720,Accuracy: 0.8963: 100%|██████████| 4916/4916 [33:51<00:00,  2.42Batch/s]"
          ]
        },
        {
          "name": "stdout",
          "output_type": "stream",
          "text": [
            "\n",
            "Epoch 8/2, Train Loss: 0.2720, Train Accuracy: 0.8963\n"
          ]
        },
        {
          "name": "stderr",
          "output_type": "stream",
          "text": [
            "\n",
            "100%|██████████| 1093/1093 [01:21<00:00, 13.45it/s]\n"
          ]
        },
        {
          "name": "stdout",
          "output_type": "stream",
          "text": [
            "Validation - Epoch: 7 Accuracy: 89.42549782558939%\n"
          ]
        }
      ],
      "source": [
        "training_accuracies, training_losses, validation_accuracies = run('roberta')"
      ]
    },
    {
      "cell_type": "markdown",
      "metadata": {},
      "source": [
        "## Training loss vs Epoch Graph and Training Accuracy vs Validation Accuracy Plot"
      ]
    },
    {
      "cell_type": "code",
      "execution_count": 117,
      "metadata": {
        "colab": {
          "base_uri": "https://localhost:8080/",
          "height": 410
        },
        "id": "l2BsBIAtQ16s",
        "outputId": "1d16508e-ddcf-429b-9a10-159298357d6f"
      },
      "outputs": [
        {
          "data": {
            "image/png": "[encoded data removed]",
            "text/plain": [
              "<Figure size 1200x400 with 2 Axes>"
            ]
          },
          "metadata": {},
          "output_type": "display_data"
        }
      ],
      "source": [
        "import matplotlib.pyplot as plt\n",
        "\n",
        "\n",
        "# Plotting the metrics\n",
        "plt.figure(figsize=(12, 4))\n",
        "\n",
        "# Plot training loss\n",
        "plt.subplot(1, 2, 1)\n",
        "plt.plot(training_losses, label='Training Loss')\n",
        "plt.xlabel('Epoch')\n",
        "plt.ylabel('Loss')\n",
        "plt.title('Training Loss Over Time')\n",
        "plt.legend()\n",
        "\n",
        "# Plot training and validation accuracy\n",
        "plt.subplot(1, 2, 2)\n",
        "plt.plot(training_accuracies, label='Training Accuracy')\n",
        "plt.plot(validation_accuracies, label='Validation Accuracy')\n",
        "plt.xlabel('Epoch')\n",
        "plt.ylabel('Accuracy')\n",
        "plt.title('Training & Validation Accuracy')\n",
        "plt.legend()\n",
        "\n",
        "plt.show()"
      ]
    },
    {
      "cell_type": "code",
      "execution_count": 118,
      "metadata": {
        "colab": {
          "base_uri": "https://localhost:8080/"
        },
        "id": "EzFIxk9D9cCv",
        "outputId": "bef5c0e3-21d0-4b80-f5fe-358054fbb70b"
      },
      "outputs": [
        {
          "name": "stdout",
          "output_type": "stream",
          "text": [
            "Picking Robert-GRU Model\n"
          ]
        },
        {
          "name": "stderr",
          "output_type": "stream",
          "text": [
            "Some weights of RobertaModel were not initialized from the model checkpoint at roberta-base and are newly initialized: ['roberta.pooler.dense.weight', 'roberta.pooler.dense.bias']\n",
            "You should probably TRAIN this model on a down-stream task to be able to use it for predictions and inference.\n"
          ]
        },
        {
          "name": "stdout",
          "output_type": "stream",
          "text": [
            "Preprocessing Dataset...\n",
            "1. Removing punctuations\n"
          ]
        },
        {
          "name": "stderr",
          "output_type": "stream",
          "text": [
            "100%|██████████| 13980/13980 [00:00<00:00, 41296.13it/s]\n"
          ]
        },
        {
          "name": "stdout",
          "output_type": "stream",
          "text": [
            "2. Converting text to lower case\n"
          ]
        },
        {
          "name": "stderr",
          "output_type": "stream",
          "text": [
            "100%|██████████| 13980/13980 [00:00<00:00, 519365.54it/s]\n"
          ]
        },
        {
          "name": "stdout",
          "output_type": "stream",
          "text": [
            "3. Removing Stop Words\n",
            "Stopwords already downloaded.\n"
          ]
        },
        {
          "name": "stderr",
          "output_type": "stream",
          "text": [
            "100%|██████████| 13980/13980 [00:02<00:00, 5490.89it/s]\n"
          ]
        },
        {
          "name": "stdout",
          "output_type": "stream",
          "text": [
            "4. Converting to stars to sentiment\n"
          ]
        },
        {
          "name": "stderr",
          "output_type": "stream",
          "text": [
            "100%|██████████| 13980/13980 [00:00<00:00, 992978.44it/s]\n"
          ]
        },
        {
          "name": "stdout",
          "output_type": "stream",
          "text": [
            "5. Enconding sentiments to 0, 1, 2 (Positive, Negative, Neutral)\n",
            "Preprocessing done!\n",
            "13980\n"
          ]
        },
        {
          "name": "stderr",
          "output_type": "stream",
          "text": [
            "100%|██████████| 437/437 [01:00<00:00,  7.23it/s]"
          ]
        },
        {
          "name": "stdout",
          "output_type": "stream",
          "text": [
            "F1 Score: 0.8834094356913508\n",
            "Test Accuracy: 0.89\n",
            "Accuracy for class 0: 0.9458512160228898\n",
            "Accuracy for class 1: 0.9105150214592275\n",
            "Accuracy for class 2: 0.9287553648068669\n"
          ]
        },
        {
          "name": "stderr",
          "output_type": "stream",
          "text": [
            "\n"
          ]
        }
      ],
      "source": [
        "run_test('/content/drive/MyDrive/model_best.pt','roberta')"
      ]
    },
    {
      "cell_type": "markdown",
      "metadata": {},
      "source": [
        "### Training Experiment 2: Gradual Unfreezing of Pretrained RoBERTa Layers\n",
        "Gradual unfreezing of layers upto 5 layers of roberta Encoder\n",
        "Following roberta model configuration is used:\n",
        "1. Learning Rate = $3e^{-5}$\n",
        "2. Max Sequence Length = 256\n",
        "3. Epoch Size = Total of 12\n",
        "4. Training Batch Size = 32\n",
        "5. Validation Batch Size = 16\n",
        "6. AdamW Optimizer\n",
        "7. Categorical Cross Entropy Loss Function"
      ]
    },
    {
      "cell_type": "code",
      "execution_count": 108,
      "metadata": {
        "colab": {
          "base_uri": "https://localhost:8080/"
        },
        "id": "1ErYNRrdWpAz",
        "outputId": "672e717d-8133-406a-f021-683ef0766bc0"
      },
      "outputs": [
        {
          "name": "stdout",
          "output_type": "stream",
          "text": [
            "Preprocessing data...\n",
            "Picking Robert-GRU Model\n"
          ]
        },
        {
          "name": "stderr",
          "output_type": "stream",
          "text": [
            "Some weights of RobertaModel were not initialized from the model checkpoint at roberta-base and are newly initialized: ['roberta.pooler.dense.weight', 'roberta.pooler.dense.bias']\n",
            "You should probably TRAIN this model on a down-stream task to be able to use it for predictions and inference.\n",
            "Loss: 0.6935,Accuracy: 0.6978: 100%|██████████| 563/563 [01:27<00:00,  6.46Batch/s]"
          ]
        },
        {
          "name": "stdout",
          "output_type": "stream",
          "text": [
            "\n",
            "Epoch 1/2, Train Loss: 0.6935, Train Accuracy: 0.6978\n"
          ]
        },
        {
          "name": "stderr",
          "output_type": "stream",
          "text": [
            "\n",
            "100%|██████████| 125/125 [00:09<00:00, 13.18it/s]\n"
          ]
        },
        {
          "name": "stdout",
          "output_type": "stream",
          "text": [
            "Validation - Epoch: 0 Accuracy: 73.3%\n"
          ]
        },
        {
          "name": "stderr",
          "output_type": "stream",
          "text": [
            "Loss: 0.6221,Accuracy: 0.7351: 100%|██████████| 563/563 [01:26<00:00,  6.47Batch/s]"
          ]
        },
        {
          "name": "stdout",
          "output_type": "stream",
          "text": [
            "\n",
            "Epoch 2/2, Train Loss: 0.6221, Train Accuracy: 0.7351\n"
          ]
        },
        {
          "name": "stderr",
          "output_type": "stream",
          "text": [
            "\n",
            "100%|██████████| 125/125 [00:09<00:00, 13.18it/s]\n"
          ]
        },
        {
          "name": "stdout",
          "output_type": "stream",
          "text": [
            "Validation - Epoch: 1 Accuracy: 73.75%\n",
            "Unfreezing last 1 layers of RoBERTa.\n"
          ]
        },
        {
          "name": "stderr",
          "output_type": "stream",
          "text": [
            "Loss: 0.6017,Accuracy: 0.7427: 100%|██████████| 563/563 [01:36<00:00,  5.82Batch/s]\n"
          ]
        },
        {
          "name": "stdout",
          "output_type": "stream",
          "text": [
            "\n",
            "Epoch 1/2, Train Loss: 0.6017, Train Accuracy: 0.7427\n"
          ]
        },
        {
          "name": "stderr",
          "output_type": "stream",
          "text": [
            "100%|██████████| 125/125 [00:09<00:00, 13.26it/s]\n"
          ]
        },
        {
          "name": "stdout",
          "output_type": "stream",
          "text": [
            "Validation - Epoch: 0 Accuracy: 74.05000000000001%\n"
          ]
        },
        {
          "name": "stderr",
          "output_type": "stream",
          "text": [
            "Loss: 0.5996,Accuracy: 0.7421: 100%|██████████| 563/563 [01:36<00:00,  5.83Batch/s]"
          ]
        },
        {
          "name": "stdout",
          "output_type": "stream",
          "text": [
            "\n",
            "Epoch 2/2, Train Loss: 0.5996, Train Accuracy: 0.7421\n"
          ]
        },
        {
          "name": "stderr",
          "output_type": "stream",
          "text": [
            "\n",
            "100%|██████████| 125/125 [00:09<00:00, 13.26it/s]\n"
          ]
        },
        {
          "name": "stdout",
          "output_type": "stream",
          "text": [
            "Validation - Epoch: 1 Accuracy: 73.8%\n",
            "Unfreezing last 2 layers of RoBERTa.\n"
          ]
        },
        {
          "name": "stderr",
          "output_type": "stream",
          "text": [
            "Loss: 0.5902,Accuracy: 0.7516: 100%|██████████| 563/563 [01:48<00:00,  5.17Batch/s]"
          ]
        },
        {
          "name": "stdout",
          "output_type": "stream",
          "text": [
            "\n",
            "Epoch 1/2, Train Loss: 0.5902, Train Accuracy: 0.7516\n"
          ]
        },
        {
          "name": "stderr",
          "output_type": "stream",
          "text": [
            "\n",
            "100%|██████████| 125/125 [00:09<00:00, 13.25it/s]\n"
          ]
        },
        {
          "name": "stdout",
          "output_type": "stream",
          "text": [
            "Validation - Epoch: 0 Accuracy: 75.4%\n"
          ]
        },
        {
          "name": "stderr",
          "output_type": "stream",
          "text": [
            "Loss: 0.5773,Accuracy: 0.7569: 100%|██████████| 563/563 [01:48<00:00,  5.17Batch/s]"
          ]
        },
        {
          "name": "stdout",
          "output_type": "stream",
          "text": [
            "\n",
            "Epoch 2/2, Train Loss: 0.5773, Train Accuracy: 0.7569\n"
          ]
        },
        {
          "name": "stderr",
          "output_type": "stream",
          "text": [
            "\n",
            "100%|██████████| 125/125 [00:09<00:00, 13.27it/s]\n"
          ]
        },
        {
          "name": "stdout",
          "output_type": "stream",
          "text": [
            "Validation - Epoch: 1 Accuracy: 75.05%\n",
            "Unfreezing last 3 layers of RoBERTa.\n"
          ]
        },
        {
          "name": "stderr",
          "output_type": "stream",
          "text": [
            "Loss: 0.5622,Accuracy: 0.7606: 100%|██████████| 563/563 [02:01<00:00,  4.64Batch/s]"
          ]
        },
        {
          "name": "stdout",
          "output_type": "stream",
          "text": [
            "\n",
            "Epoch 1/2, Train Loss: 0.5622, Train Accuracy: 0.7606\n"
          ]
        },
        {
          "name": "stderr",
          "output_type": "stream",
          "text": [
            "\n",
            "100%|██████████| 125/125 [00:09<00:00, 13.23it/s]\n"
          ]
        },
        {
          "name": "stdout",
          "output_type": "stream",
          "text": [
            "Validation - Epoch: 0 Accuracy: 76.7%\n"
          ]
        },
        {
          "name": "stderr",
          "output_type": "stream",
          "text": [
            "Loss: 0.5460,Accuracy: 0.7716: 100%|██████████| 563/563 [02:01<00:00,  4.63Batch/s]"
          ]
        },
        {
          "name": "stdout",
          "output_type": "stream",
          "text": [
            "\n",
            "Epoch 2/2, Train Loss: 0.5460, Train Accuracy: 0.7716\n"
          ]
        },
        {
          "name": "stderr",
          "output_type": "stream",
          "text": [
            "\n",
            "100%|██████████| 125/125 [00:09<00:00, 13.16it/s]\n"
          ]
        },
        {
          "name": "stdout",
          "output_type": "stream",
          "text": [
            "Validation - Epoch: 1 Accuracy: 76.9%\n",
            "Unfreezing last 4 layers of RoBERTa.\n"
          ]
        },
        {
          "name": "stderr",
          "output_type": "stream",
          "text": [
            "Loss: 0.5358,Accuracy: 0.7769: 100%|██████████| 563/563 [02:13<00:00,  4.21Batch/s]"
          ]
        },
        {
          "name": "stdout",
          "output_type": "stream",
          "text": [
            "\n",
            "Epoch 1/2, Train Loss: 0.5358, Train Accuracy: 0.7769\n"
          ]
        },
        {
          "name": "stderr",
          "output_type": "stream",
          "text": [
            "\n",
            "100%|██████████| 125/125 [00:09<00:00, 13.23it/s]\n"
          ]
        },
        {
          "name": "stdout",
          "output_type": "stream",
          "text": [
            "Validation - Epoch: 0 Accuracy: 77.7%\n"
          ]
        },
        {
          "name": "stderr",
          "output_type": "stream",
          "text": [
            "Loss: 0.5176,Accuracy: 0.7834: 100%|██████████| 563/563 [02:13<00:00,  4.20Batch/s]"
          ]
        },
        {
          "name": "stdout",
          "output_type": "stream",
          "text": [
            "\n",
            "Epoch 2/2, Train Loss: 0.5176, Train Accuracy: 0.7834\n"
          ]
        },
        {
          "name": "stderr",
          "output_type": "stream",
          "text": [
            "\n",
            "100%|██████████| 125/125 [00:09<00:00, 13.20it/s]\n"
          ]
        },
        {
          "name": "stdout",
          "output_type": "stream",
          "text": [
            "Validation - Epoch: 1 Accuracy: 78.14999999999999%\n",
            "Unfreezing last 5 layers of RoBERTa.\n"
          ]
        },
        {
          "name": "stderr",
          "output_type": "stream",
          "text": [
            "Loss: 0.5100,Accuracy: 0.7881: 100%|██████████| 563/563 [02:26<00:00,  3.85Batch/s]"
          ]
        },
        {
          "name": "stdout",
          "output_type": "stream",
          "text": [
            "\n",
            "Epoch 1/2, Train Loss: 0.5100, Train Accuracy: 0.7881\n"
          ]
        },
        {
          "name": "stderr",
          "output_type": "stream",
          "text": [
            "\n",
            "100%|██████████| 125/125 [00:09<00:00, 13.18it/s]\n"
          ]
        },
        {
          "name": "stdout",
          "output_type": "stream",
          "text": [
            "Validation - Epoch: 0 Accuracy: 79.0%\n"
          ]
        },
        {
          "name": "stderr",
          "output_type": "stream",
          "text": [
            "Loss: 0.4889,Accuracy: 0.7995: 100%|██████████| 563/563 [02:26<00:00,  3.85Batch/s]"
          ]
        },
        {
          "name": "stdout",
          "output_type": "stream",
          "text": [
            "\n",
            "Epoch 2/2, Train Loss: 0.4889, Train Accuracy: 0.7995\n"
          ]
        },
        {
          "name": "stderr",
          "output_type": "stream",
          "text": [
            "\n",
            "100%|██████████| 125/125 [00:09<00:00, 13.22it/s]\n"
          ]
        },
        {
          "name": "stdout",
          "output_type": "stream",
          "text": [
            "Validation - Epoch: 1 Accuracy: 79.85%\n"
          ]
        }
      ],
      "source": [
        "training_accuracies, training_losses, validation_accuracies = run('roberta')"
      ]
    },
    {
      "cell_type": "code",
      "execution_count": 109,
      "metadata": {
        "colab": {
          "base_uri": "https://localhost:8080/",
          "height": 410
        },
        "id": "JqRp6Zx72abt",
        "outputId": "828e6207-d8ca-432d-a99e-f79073fcc8c4"
      },
      "outputs": [
        {
          "data": {
            "image/png": "[encoded data removed]",
            "text/plain": [
              "<Figure size 1200x400 with 2 Axes>"
            ]
          },
          "metadata": {},
          "output_type": "display_data"
        }
      ],
      "source": [
        "import matplotlib.pyplot as plt\n",
        "\n",
        "\n",
        "# Plotting the metrics\n",
        "plt.figure(figsize=(12, 4))\n",
        "\n",
        "# Plot training loss\n",
        "plt.subplot(1, 2, 1)\n",
        "plt.plot(training_losses, label='Training Loss')\n",
        "plt.xlabel('Epoch')\n",
        "plt.ylabel('Loss')\n",
        "plt.title('Training Loss Over Time')\n",
        "plt.legend()\n",
        "\n",
        "# Plot training and validation accuracy\n",
        "plt.subplot(1, 2, 2)\n",
        "plt.plot(training_accuracies, label='Training Accuracy')\n",
        "plt.plot(validation_accuracies, label='Validation Accuracy')\n",
        "plt.xlabel('Epoch')\n",
        "plt.ylabel('Accuracy')\n",
        "plt.title('Training & Validation Accuracy')\n",
        "plt.legend()\n",
        "\n",
        "plt.show()"
      ]
    },
    {
      "cell_type": "code",
      "execution_count": 110,
      "metadata": {
        "colab": {
          "base_uri": "https://localhost:8080/"
        },
        "id": "mCPF5MZu8TJK",
        "outputId": "585a4a70-2e28-43df-e63e-c6ba5686a1d2"
      },
      "outputs": [
        {
          "name": "stdout",
          "output_type": "stream",
          "text": [
            "Picking Robert-GRU Model\n"
          ]
        },
        {
          "name": "stderr",
          "output_type": "stream",
          "text": [
            "Some weights of RobertaModel were not initialized from the model checkpoint at roberta-base and are newly initialized: ['roberta.pooler.dense.weight', 'roberta.pooler.dense.bias']\n",
            "You should probably TRAIN this model on a down-stream task to be able to use it for predictions and inference.\n"
          ]
        },
        {
          "name": "stdout",
          "output_type": "stream",
          "text": [
            "Preprocessing Dataset...\n",
            "1. Removing punctuations\n"
          ]
        },
        {
          "name": "stderr",
          "output_type": "stream",
          "text": [
            "100%|██████████| 13980/13980 [00:00<00:00, 44967.92it/s]\n"
          ]
        },
        {
          "name": "stdout",
          "output_type": "stream",
          "text": [
            "2. Converting text to lower case\n"
          ]
        },
        {
          "name": "stderr",
          "output_type": "stream",
          "text": [
            "100%|██████████| 13980/13980 [00:00<00:00, 476578.97it/s]\n"
          ]
        },
        {
          "name": "stdout",
          "output_type": "stream",
          "text": [
            "3. Removing Stop Words\n",
            "Stopwords already downloaded.\n"
          ]
        },
        {
          "name": "stderr",
          "output_type": "stream",
          "text": [
            "100%|██████████| 13980/13980 [00:02<00:00, 5706.42it/s]\n"
          ]
        },
        {
          "name": "stdout",
          "output_type": "stream",
          "text": [
            "4. Converting to stars to sentiment\n"
          ]
        },
        {
          "name": "stderr",
          "output_type": "stream",
          "text": [
            "100%|██████████| 13980/13980 [00:00<00:00, 930824.68it/s]\n"
          ]
        },
        {
          "name": "stdout",
          "output_type": "stream",
          "text": [
            "5. Enconding sentiments to 0, 1, 2 (Positive, Negative, Neutral)\n",
            "Preprocessing done!\n",
            "13980\n"
          ]
        },
        {
          "name": "stderr",
          "output_type": "stream",
          "text": [
            "100%|██████████| 437/437 [01:00<00:00,  7.26it/s]"
          ]
        },
        {
          "name": "stdout",
          "output_type": "stream",
          "text": [
            "F1 Score: 0.8273615235834577\n",
            "Test Accuracy: 0.81\n",
            "Accuracy for class 0: 0.9167381974248927\n",
            "Accuracy for class 1: 0.8382689556509298\n",
            "Accuracy for class 2: 0.8640200286123033\n"
          ]
        },
        {
          "name": "stderr",
          "output_type": "stream",
          "text": [
            "\n"
          ]
        }
      ],
      "source": [
        "run_test('/content/models/model.pt','roberta')"
      ]
    },
    {
      "cell_type": "markdown",
      "metadata": {
        "id": "zWVGtrmr8BHa"
      },
      "source": [
        "# Result and Experiment Analysis"
      ]
    },
    {
      "cell_type": "markdown",
      "metadata": {
        "id": "3oMOQg_c8FW2"
      },
      "source": [
        "## With Dataset Augmentation and Balancing\n",
        "In the first experiment, the dataset was augmented by downsampling the positive class to match the\n",
        "average size of the other classes. The results were as follows:\n",
        "- F1 Score: 0.885\n",
        "- Test Accuracy: 0.88\n",
        "- AUC Scores: Negative - 0.985, Neutral - 0.897, Positive - 0.975\n",
        "These results indicate a balanced and effective model performance across all classes, underscoring\n",
        "the benefits of dataset augmentation and balancing."
      ]
    },
    {
      "cell_type": "code",
      "execution_count": 148,
      "metadata": {
        "colab": {
          "base_uri": "https://localhost:8080/",
          "height": 1000
        },
        "id": "CrpJAOe_RuL-",
        "outputId": "dad09061-85d1-469f-ceeb-dfdc81469dd7"
      },
      "outputs": [
        {
          "name": "stdout",
          "output_type": "stream",
          "text": [
            "Picking Robert-GRU Model\n"
          ]
        },
        {
          "name": "stderr",
          "output_type": "stream",
          "text": [
            "Some weights of RobertaModel were not initialized from the model checkpoint at roberta-base and are newly initialized: ['roberta.pooler.dense.weight', 'roberta.pooler.dense.bias']\n",
            "You should probably TRAIN this model on a down-stream task to be able to use it for predictions and inference.\n"
          ]
        },
        {
          "name": "stdout",
          "output_type": "stream",
          "text": [
            "Preprocessing Dataset...\n",
            "1. Removing punctuations\n"
          ]
        },
        {
          "name": "stderr",
          "output_type": "stream",
          "text": [
            "100%|██████████| 13980/13980 [00:00<00:00, 48226.65it/s]\n"
          ]
        },
        {
          "name": "stdout",
          "output_type": "stream",
          "text": [
            "2. Converting text to lower case\n"
          ]
        },
        {
          "name": "stderr",
          "output_type": "stream",
          "text": [
            "100%|██████████| 13980/13980 [00:00<00:00, 569235.41it/s]\n"
          ]
        },
        {
          "name": "stdout",
          "output_type": "stream",
          "text": [
            "3. Removing Stop Words\n",
            "Stopwords already downloaded.\n"
          ]
        },
        {
          "name": "stderr",
          "output_type": "stream",
          "text": [
            "100%|██████████| 13980/13980 [00:02<00:00, 5836.12it/s]\n"
          ]
        },
        {
          "name": "stdout",
          "output_type": "stream",
          "text": [
            "4. Converting to stars to sentiment\n"
          ]
        },
        {
          "name": "stderr",
          "output_type": "stream",
          "text": [
            "100%|██████████| 13980/13980 [00:00<00:00, 898283.75it/s]\n"
          ]
        },
        {
          "name": "stdout",
          "output_type": "stream",
          "text": [
            "5. Enconding sentiments to 0, 1, 2 (Positive, Negative, Neutral)\n",
            "Preprocessing done!\n",
            "13980\n"
          ]
        },
        {
          "name": "stderr",
          "output_type": "stream",
          "text": [
            "100%|██████████| 437/437 [01:00<00:00,  7.26it/s]\n"
          ]
        },
        {
          "name": "stdout",
          "output_type": "stream",
          "text": [
            "F1 Score: 0.8850373937040122\n",
            "Test Accuracy: 0.88\n",
            "AUC Scores: {'Class 0 AUC': 0.9848479321635488, 'Class 1 AUC': 0.8969745524384081, 'Class 2 AUC': 0.975101430843007}\n"
          ]
        },
        {
          "data": {
            "image/png": "[encoded data removed]",
            "text/plain": [
              "<Figure size 1000x1000 with 2 Axes>"
            ]
          },
          "metadata": {},
          "output_type": "display_data"
        },
        {
          "data": {
            "image/png": "[encoded data removed]",
            "text/plain": [
              "<Figure size 640x480 with 1 Axes>"
            ]
          },
          "metadata": {},
          "output_type": "display_data"
        }
      ],
      "source": [
        "run_test('/content/models/model.pt','roberta')"
      ]
    },
    {
      "cell_type": "markdown",
      "metadata": {
        "id": "fFxifQz3ua7n"
      },
      "source": [
        "# Experminent 2 Analysis: Without Dataset Augmentation and Balancing\n",
        "The second experiment, conducted without dataset augmentation and balancing, yielded these results:\n",
        "- F1 Score: 0.883\n",
        "- Test Accuracy: 0.89\n",
        "- AUC Scores: Negative - 0.986, Neutral - 0.902, Positive - 0.977\n",
        "\n",
        "Despite the absence of data balancing, the model achieved a slightly higher test accuracy. However,\n",
        "the F1 score was marginally lower than in the balanced dataset experiment. A key factor in this\n",
        "performance is the imbalance in the test dataset, which mirrors the training dataset’s skew towards\n",
        "the positive class.\n"
      ]
    },
    {
      "cell_type": "code",
      "execution_count": 153,
      "metadata": {
        "colab": {
          "base_uri": "https://localhost:8080/",
          "height": 1000
        },
        "id": "1oeJkAwp-NiZ",
        "outputId": "b66f1638-0830-4cf5-b770-679a14de5ec0"
      },
      "outputs": [
        {
          "name": "stdout",
          "output_type": "stream",
          "text": [
            "Picking Robert-GRU Model\n"
          ]
        },
        {
          "name": "stderr",
          "output_type": "stream",
          "text": [
            "Some weights of RobertaModel were not initialized from the model checkpoint at roberta-base and are newly initialized: ['roberta.pooler.dense.weight', 'roberta.pooler.dense.bias']\n",
            "You should probably TRAIN this model on a down-stream task to be able to use it for predictions and inference.\n"
          ]
        },
        {
          "name": "stdout",
          "output_type": "stream",
          "text": [
            "Preprocessing Dataset...\n",
            "1. Removing punctuations\n"
          ]
        },
        {
          "name": "stderr",
          "output_type": "stream",
          "text": [
            "100%|██████████| 13980/13980 [00:00<00:00, 47254.77it/s]\n"
          ]
        },
        {
          "name": "stdout",
          "output_type": "stream",
          "text": [
            "2. Converting text to lower case\n"
          ]
        },
        {
          "name": "stderr",
          "output_type": "stream",
          "text": [
            "100%|██████████| 13980/13980 [00:00<00:00, 402277.49it/s]\n"
          ]
        },
        {
          "name": "stdout",
          "output_type": "stream",
          "text": [
            "3. Removing Stop Words\n",
            "Stopwords already downloaded.\n"
          ]
        },
        {
          "name": "stderr",
          "output_type": "stream",
          "text": [
            "100%|██████████| 13980/13980 [00:02<00:00, 5501.24it/s]\n"
          ]
        },
        {
          "name": "stdout",
          "output_type": "stream",
          "text": [
            "4. Converting to stars to sentiment\n"
          ]
        },
        {
          "name": "stderr",
          "output_type": "stream",
          "text": [
            "100%|██████████| 13980/13980 [00:00<00:00, 902778.55it/s]\n"
          ]
        },
        {
          "name": "stdout",
          "output_type": "stream",
          "text": [
            "5. Enconding sentiments to 0, 1, 2 (Positive, Negative, Neutral)\n",
            "Preprocessing done!\n",
            "13980\n"
          ]
        },
        {
          "name": "stderr",
          "output_type": "stream",
          "text": [
            "100%|██████████| 437/437 [01:00<00:00,  7.26it/s]\n"
          ]
        },
        {
          "name": "stdout",
          "output_type": "stream",
          "text": [
            "F1 Score: 0.8834094356913508\n",
            "Test Accuracy: 0.89\n",
            "AUC Scores: {'Class 0 AUC': 0.9855779311437717, 'Class 1 AUC': 0.9018830930269787, 'Class 2 AUC': 0.9769842494862495}\n"
          ]
        },
        {
          "data": {
            "image/png": "[encoded data removed]",
            "text/plain": [
              "<Figure size 1000x1000 with 2 Axes>"
            ]
          },
          "metadata": {},
          "output_type": "display_data"
        },
        {
          "data": {
            "image/png": "[encoded data removed]",
            "text/plain": [
              "<Figure size 640x480 with 1 Axes>"
            ]
          },
          "metadata": {},
          "output_type": "display_data"
        }
      ],
      "source": [
        "run_test('/content/drive/MyDrive/Models/model_best.pt','roberta')"
      ]
    },
    {
      "cell_type": "markdown",
      "metadata": {},
      "source": [
        "## Experiment 3 Analysis: Gradual Unfreezing of Pretrained RoBERTa Layers\n",
        "Another experiment involved gradually unfreezing the pretrained RoBERTa layers:\n",
        "- F1 Score: 0.827\n",
        "- Test Accuracy: 0.81\n",
        "- AUC Scores: Negative - 0.967, Neutral - 0.835, Positive - 0.952\n",
        "\n",
        "This strategy led to lower performance metrics, suggesting that gradual unfreezing did not favorably\n",
        "impact the model’s accuracy for this specific task"
      ]
    },
    {
      "cell_type": "code",
      "execution_count": 150,
      "metadata": {
        "colab": {
          "base_uri": "https://localhost:8080/",
          "height": 1000
        },
        "id": "dJyZbYujulmq",
        "outputId": "8c4a2571-508c-45cb-cad2-5c3cc3c20049"
      },
      "outputs": [
        {
          "name": "stdout",
          "output_type": "stream",
          "text": [
            "Picking Robert-GRU Model\n"
          ]
        },
        {
          "name": "stderr",
          "output_type": "stream",
          "text": [
            "Some weights of RobertaModel were not initialized from the model checkpoint at roberta-base and are newly initialized: ['roberta.pooler.dense.weight', 'roberta.pooler.dense.bias']\n",
            "You should probably TRAIN this model on a down-stream task to be able to use it for predictions and inference.\n"
          ]
        },
        {
          "name": "stdout",
          "output_type": "stream",
          "text": [
            "Preprocessing Dataset...\n",
            "1. Removing punctuations\n"
          ]
        },
        {
          "name": "stderr",
          "output_type": "stream",
          "text": [
            "100%|██████████| 13980/13980 [00:00<00:00, 43017.37it/s]\n"
          ]
        },
        {
          "name": "stdout",
          "output_type": "stream",
          "text": [
            "2. Converting text to lower case\n"
          ]
        },
        {
          "name": "stderr",
          "output_type": "stream",
          "text": [
            "100%|██████████| 13980/13980 [00:00<00:00, 651117.32it/s]\n"
          ]
        },
        {
          "name": "stdout",
          "output_type": "stream",
          "text": [
            "3. Removing Stop Words\n",
            "Stopwords already downloaded.\n"
          ]
        },
        {
          "name": "stderr",
          "output_type": "stream",
          "text": [
            "100%|██████████| 13980/13980 [00:02<00:00, 5364.55it/s]\n"
          ]
        },
        {
          "name": "stdout",
          "output_type": "stream",
          "text": [
            "4. Converting to stars to sentiment\n"
          ]
        },
        {
          "name": "stderr",
          "output_type": "stream",
          "text": [
            "100%|██████████| 13980/13980 [00:00<00:00, 871695.93it/s]\n"
          ]
        },
        {
          "name": "stdout",
          "output_type": "stream",
          "text": [
            "5. Enconding sentiments to 0, 1, 2 (Positive, Negative, Neutral)\n",
            "Preprocessing done!\n",
            "13980\n"
          ]
        },
        {
          "name": "stderr",
          "output_type": "stream",
          "text": [
            "100%|██████████| 437/437 [00:59<00:00,  7.29it/s]\n"
          ]
        },
        {
          "name": "stdout",
          "output_type": "stream",
          "text": [
            "F1 Score: 0.8273615235834577\n",
            "Test Accuracy: 0.81\n",
            "AUC Scores: {'Class 0 AUC': 0.9672681492806904, 'Class 1 AUC': 0.83450577675072, 'Class 2 AUC': 0.9517104713473508}\n"
          ]
        },
        {
          "data": {
            "image/png": "[encoded data removed]",
            "text/plain": [
              "<Figure size 1000x1000 with 2 Axes>"
            ]
          },
          "metadata": {},
          "output_type": "display_data"
        },
        {
          "data": {
            "image/png": "[encoded data removed]",
            "text/plain": [
              "<Figure size 640x480 with 1 Axes>"
            ]
          },
          "metadata": {},
          "output_type": "display_data"
        }
      ],
      "source": [
        "run_test('/content/drive/MyDrive/Models/model_v3_gradual_unfreezing.pt','roberta')"
      ]
    }
  ],
  "metadata": {
    "accelerator": "GPU",
    "colab": {
      "gpuType": "V100",
      "machine_shape": "hm",
      "provenance": []
    },
    "kernelspec": {
      "display_name": "Python 3",
      "name": "python3"
    },
    "language_info": {
      "name": "python"
    }
  },
  "nbformat": 4,
  "nbformat_minor": 0
}
